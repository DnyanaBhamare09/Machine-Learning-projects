{
  "nbformat": 4,
  "nbformat_minor": 0,
  "metadata": {
    "accelerator": "GPU",
    "colab": {
      "name": "Wind_mill_power_prediction_Hacker_Earth_Train.ipynb",
      "provenance": [],
      "collapsed_sections": []
    },
    "kernelspec": {
      "display_name": "Python 3",
      "name": "python3"
    },
    "language_info": {
      "name": "python"
    }
  },
  "cells": [
    {
      "cell_type": "code",
      "metadata": {
        "id": "hEdkWw0Pc-8N"
      },
      "source": [
        "import pandas as pd\n",
        "import numpy as np\n",
        "import matplotlib.pyplot as plt\n",
        "import seaborn as sns"
      ],
      "execution_count": null,
      "outputs": []
    },
    {
      "cell_type": "code",
      "metadata": {
        "id": "qHGehSM4ehX0"
      },
      "source": [
        "dataset = pd.read_csv(\"/content/drive/MyDrive/Deep Learning/train_wind_mill.csv\")"
      ],
      "execution_count": null,
      "outputs": []
    },
    {
      "cell_type": "code",
      "metadata": {
        "colab": {
          "base_uri": "https://localhost:8080/",
          "height": 411
        },
        "id": "G-D0K9QXgDbW",
        "outputId": "c10d37e9-3e99-41d8-d201-0fe7d4cbc8c5"
      },
      "source": [
        "dataset.head()"
      ],
      "execution_count": null,
      "outputs": [
        {
          "output_type": "execute_result",
          "data": {
            "text/html": [
              "<div>\n",
              "<style scoped>\n",
              "    .dataframe tbody tr th:only-of-type {\n",
              "        vertical-align: middle;\n",
              "    }\n",
              "\n",
              "    .dataframe tbody tr th {\n",
              "        vertical-align: top;\n",
              "    }\n",
              "\n",
              "    .dataframe thead th {\n",
              "        text-align: right;\n",
              "    }\n",
              "</style>\n",
              "<table border=\"1\" class=\"dataframe\">\n",
              "  <thead>\n",
              "    <tr style=\"text-align: right;\">\n",
              "      <th></th>\n",
              "      <th>tracking_id</th>\n",
              "      <th>datetime</th>\n",
              "      <th>wind_speed(m/s)</th>\n",
              "      <th>atmospheric_temperature(°C)</th>\n",
              "      <th>shaft_temperature(°C)</th>\n",
              "      <th>blades_angle(°)</th>\n",
              "      <th>gearbox_temperature(°C)</th>\n",
              "      <th>engine_temperature(°C)</th>\n",
              "      <th>motor_torque(N-m)</th>\n",
              "      <th>generator_temperature(°C)</th>\n",
              "      <th>atmospheric_pressure(Pascal)</th>\n",
              "      <th>area_temperature(°C)</th>\n",
              "      <th>windmill_body_temperature(°C)</th>\n",
              "      <th>wind_direction(°)</th>\n",
              "      <th>resistance(ohm)</th>\n",
              "      <th>rotor_torque(N-m)</th>\n",
              "      <th>turbine_status</th>\n",
              "      <th>cloud_level</th>\n",
              "      <th>blade_length(m)</th>\n",
              "      <th>blade_breadth(m)</th>\n",
              "      <th>windmill_height(m)</th>\n",
              "      <th>windmill_generated_power(kW/h)</th>\n",
              "    </tr>\n",
              "  </thead>\n",
              "  <tbody>\n",
              "    <tr>\n",
              "      <th>0</th>\n",
              "      <td>WM_33725</td>\n",
              "      <td>2019-08-04 14:33:20</td>\n",
              "      <td>94.820023</td>\n",
              "      <td>-99.000000</td>\n",
              "      <td>41.723019</td>\n",
              "      <td>-0.903423</td>\n",
              "      <td>82.410573</td>\n",
              "      <td>42.523015</td>\n",
              "      <td>2563.124522</td>\n",
              "      <td>76.665560</td>\n",
              "      <td>103402.961872</td>\n",
              "      <td>26.897875</td>\n",
              "      <td>NaN</td>\n",
              "      <td>239.836388</td>\n",
              "      <td>2730.310605</td>\n",
              "      <td>42.084666</td>\n",
              "      <td>BA</td>\n",
              "      <td>Medium</td>\n",
              "      <td>2.217542</td>\n",
              "      <td>0.314065</td>\n",
              "      <td>24.281689</td>\n",
              "      <td>6.766521</td>\n",
              "    </tr>\n",
              "    <tr>\n",
              "      <th>1</th>\n",
              "      <td>WM_698</td>\n",
              "      <td>2018-11-05 10:13:20</td>\n",
              "      <td>241.832734</td>\n",
              "      <td>27.764785</td>\n",
              "      <td>-99.000000</td>\n",
              "      <td>-99.000000</td>\n",
              "      <td>44.104919</td>\n",
              "      <td>46.258870</td>\n",
              "      <td>2372.384119</td>\n",
              "      <td>78.129803</td>\n",
              "      <td>17030.904078</td>\n",
              "      <td>39.801469</td>\n",
              "      <td>NaN</td>\n",
              "      <td>337.944723</td>\n",
              "      <td>1780.207200</td>\n",
              "      <td>107.888643</td>\n",
              "      <td>A2</td>\n",
              "      <td>Medium</td>\n",
              "      <td>4.210346</td>\n",
              "      <td>0.448494</td>\n",
              "      <td>27.262139</td>\n",
              "      <td>5.966275</td>\n",
              "    </tr>\n",
              "    <tr>\n",
              "      <th>2</th>\n",
              "      <td>WM_39146</td>\n",
              "      <td>2019-09-14 14:03:20</td>\n",
              "      <td>95.484724</td>\n",
              "      <td>NaN</td>\n",
              "      <td>41.855473</td>\n",
              "      <td>12.652763</td>\n",
              "      <td>42.322098</td>\n",
              "      <td>42.878552</td>\n",
              "      <td>1657.169646</td>\n",
              "      <td>67.654469</td>\n",
              "      <td>16125.927107</td>\n",
              "      <td>36.116065</td>\n",
              "      <td>45.033197</td>\n",
              "      <td>227.850294</td>\n",
              "      <td>1666.049900</td>\n",
              "      <td>-42.931459</td>\n",
              "      <td>ABC</td>\n",
              "      <td>Medium</td>\n",
              "      <td>2.719475</td>\n",
              "      <td>0.302321</td>\n",
              "      <td>27.366127</td>\n",
              "      <td>2.874342</td>\n",
              "    </tr>\n",
              "    <tr>\n",
              "      <th>3</th>\n",
              "      <td>WM_6757</td>\n",
              "      <td>2018-12-25 15:33:20</td>\n",
              "      <td>238.819424</td>\n",
              "      <td>-99.000000</td>\n",
              "      <td>45.443914</td>\n",
              "      <td>15.115323</td>\n",
              "      <td>44.759643</td>\n",
              "      <td>47.282101</td>\n",
              "      <td>2888.134079</td>\n",
              "      <td>95.389974</td>\n",
              "      <td>18689.732336</td>\n",
              "      <td>46.020045</td>\n",
              "      <td>44.827154</td>\n",
              "      <td>492.081520</td>\n",
              "      <td>1964.502895</td>\n",
              "      <td>42.744596</td>\n",
              "      <td>ABC</td>\n",
              "      <td>NaN</td>\n",
              "      <td>4.857385</td>\n",
              "      <td>0.367140</td>\n",
              "      <td>24.287767</td>\n",
              "      <td>14.851089</td>\n",
              "    </tr>\n",
              "    <tr>\n",
              "      <th>4</th>\n",
              "      <td>WM_21521</td>\n",
              "      <td>2019-05-04 03:13:20</td>\n",
              "      <td>10.722890</td>\n",
              "      <td>NaN</td>\n",
              "      <td>41.981183</td>\n",
              "      <td>1.715696</td>\n",
              "      <td>-17.616459</td>\n",
              "      <td>43.469852</td>\n",
              "      <td>781.695419</td>\n",
              "      <td>37.423065</td>\n",
              "      <td>114468.169007</td>\n",
              "      <td>34.572941</td>\n",
              "      <td>-99.000000</td>\n",
              "      <td>259.274601</td>\n",
              "      <td>1177.516152</td>\n",
              "      <td>13.387289</td>\n",
              "      <td>AAA</td>\n",
              "      <td>Medium</td>\n",
              "      <td>NaN</td>\n",
              "      <td>0.453374</td>\n",
              "      <td>27.971650</td>\n",
              "      <td>3.519074</td>\n",
              "    </tr>\n",
              "  </tbody>\n",
              "</table>\n",
              "</div>"
            ],
            "text/plain": [
              "  tracking_id  ... windmill_generated_power(kW/h)\n",
              "0    WM_33725  ...                       6.766521\n",
              "1      WM_698  ...                       5.966275\n",
              "2    WM_39146  ...                       2.874342\n",
              "3     WM_6757  ...                      14.851089\n",
              "4    WM_21521  ...                       3.519074\n",
              "\n",
              "[5 rows x 22 columns]"
            ]
          },
          "metadata": {
            "tags": []
          },
          "execution_count": 3
        }
      ]
    },
    {
      "cell_type": "code",
      "metadata": {
        "colab": {
          "base_uri": "https://localhost:8080/"
        },
        "id": "ZtOSa4fLmQS6",
        "outputId": "b2282b80-3ce6-4b52-ed35-69faec56df2c"
      },
      "source": [
        "dataset.shape"
      ],
      "execution_count": null,
      "outputs": [
        {
          "output_type": "execute_result",
          "data": {
            "text/plain": [
              "(28200, 22)"
            ]
          },
          "metadata": {
            "tags": []
          },
          "execution_count": 4
        }
      ]
    },
    {
      "cell_type": "markdown",
      "metadata": {
        "id": "WHZZKu2Ci06s"
      },
      "source": [
        "# Missing Values"
      ]
    },
    {
      "cell_type": "code",
      "metadata": {
        "id": "5CrKbuOOiaSa"
      },
      "source": [
        "# Make the list of features which has missing values\n",
        "features_with_na = [features for features in dataset.columns if dataset[features].isnull().sum() > 1]"
      ],
      "execution_count": null,
      "outputs": []
    },
    {
      "cell_type": "code",
      "metadata": {
        "colab": {
          "base_uri": "https://localhost:8080/"
        },
        "id": "fXvMLJQ7jaPK",
        "outputId": "a9b143f4-4e72-4aee-e048-584e0ee36245"
      },
      "source": [
        "# step print the feature name and the percentage of missing values\n",
        "for feature in features_with_na:\n",
        "  print(feature, np.round(dataset[feature].isnull().mean(),4), \" % missing values\")"
      ],
      "execution_count": null,
      "outputs": [
        {
          "output_type": "stream",
          "text": [
            "wind_speed(m/s) 0.0097  % missing values\n",
            "atmospheric_temperature(°C) 0.1223  % missing values\n",
            "shaft_temperature(°C) 0.0001  % missing values\n",
            "blades_angle(°) 0.0077  % missing values\n",
            "engine_temperature(°C) 0.0004  % missing values\n",
            "motor_torque(N-m) 0.0009  % missing values\n",
            "generator_temperature(°C) 0.0004  % missing values\n",
            "atmospheric_pressure(Pascal) 0.096  % missing values\n",
            "windmill_body_temperature(°C) 0.0838  % missing values\n",
            "wind_direction(°) 0.181  % missing values\n",
            "rotor_torque(N-m) 0.0203  % missing values\n",
            "turbine_status 0.0624  % missing values\n",
            "cloud_level 0.0098  % missing values\n",
            "blade_length(m) 0.1806  % missing values\n",
            "windmill_height(m) 0.0193  % missing values\n",
            "windmill_generated_power(kW/h) 0.0073  % missing values\n"
          ],
          "name": "stdout"
        }
      ]
    },
    {
      "cell_type": "markdown",
      "metadata": {
        "id": "zp45BWE4klF9"
      },
      "source": [
        "# Since they are many missing values, we need to find the relationship between  missing values and Power output"
      ]
    },
    {
      "cell_type": "code",
      "metadata": {
        "colab": {
          "base_uri": "https://localhost:8080/",
          "height": 845
        },
        "id": "T0-WyXkej2dh",
        "outputId": "b0d72597-ceed-4736-c161-4daa555abaeb"
      },
      "source": [
        "for feature in features_with_na:\n",
        "  data = dataset.copy()\n",
        "\n",
        "  # let's make a variable that indicates 1 if the observation was missing or zero otherwise\n",
        "  data[feature] = np.where(data[feature].isnull(), 1, 0)\n",
        "\n",
        "  # let's calculate the mean SalePrice where the information is missing or present\n",
        "  data.groupby(feature)[\"windmill_generated_power(kW/h)\"].median().plot.bar()\n",
        "  plt.title(feature)\n",
        "  plt.show()"
      ],
      "execution_count": null,
      "outputs": [
        {
          "output_type": "display_data",
          "data": {
            "image/png": "[encoded data removed]",
            "text/plain": [
              "<Figure size 432x288 with 1 Axes>"
            ]
          },
          "metadata": {
            "tags": []
          }
        },
        {
          "output_type": "display_data",
          "data": {
            "image/png": "[encoded data removed]",
            "text/plain": [
              "<Figure size 432x288 with 1 Axes>"
            ]
          },
          "metadata": {
            "tags": []
          }
        },
        {
          "output_type": "display_data",
          "data": {
            "image/png": "[encoded data removed]",
            "text/plain": [
              "<Figure size 432x288 with 1 Axes>"
            ]
          },
          "metadata": {
            "tags": []
          }
        }
      ]
    },
    {
      "cell_type": "markdown",
      "metadata": {
        "id": "B6-NlhVNosul"
      },
      "source": [
        "# Here With the relation between the missing values and the dependent variable is clearly visible.So We need to replace these NaN values with something meaningful which we will do in the Feature Engineering section"
      ]
    },
    {
      "cell_type": "code",
      "metadata": {
        "id": "h8N9sUd4l6E_"
      },
      "source": [
        "# list of numerical variables\n",
        "numerical_features = [feature for feature in dataset.columns if dataset[feature].dtypes != \"O\"]\n",
        "\n",
        "print(\"Number of numerical variables: \", len(numerical_features))\n",
        "\n",
        "# Visualise the numerical variables\n",
        "dataset[numerical_features].head()"
      ],
      "execution_count": null,
      "outputs": []
    },
    {
      "cell_type": "code",
      "metadata": {
        "id": "qhg-24xlp7Vq"
      },
      "source": [
        "# Temporal Variables(Eg: Datetime Variables)\n",
        "# list of variables that contain datetime information\n",
        "date_feature = [feature for feature in dataset.columns if \"date\" in feature]\n",
        "\n",
        "date_feature"
      ],
      "execution_count": null,
      "outputs": []
    },
    {
      "cell_type": "code",
      "metadata": {
        "id": "YRTLDvK9rJNC"
      },
      "source": [
        "# Lets analyze the Temporal Datetime Variables\n",
        "# We will check whether there is a relation between datetime of the wind mill and the power output\n",
        "\n",
        "#dataset.groupby(\"datetime\")[\"datetime\"].median().plot()\n",
        "#plt.xlabel(\"datetime\")\n",
        "#plt.ylabel(\"Median power output\")\n",
        "#plt.title(\"datetime Vs Power output\")"
      ],
      "execution_count": null,
      "outputs": []
    },
    {
      "cell_type": "code",
      "metadata": {
        "id": "KfbTAkD8r3aS"
      },
      "source": [
        "# Numerical variables are usually of 2 type\n",
        "# Continous variable and Discrete Variables\n",
        "discrete_feature = [feature for feature in numerical_features if len(dataset[feature].unique()) < 25 and feature not in date_feature + [\"tracking_id\"]]\n",
        "print(\"Discrete Variables Count: {}\".format(len(discrete_feature)))"
      ],
      "execution_count": null,
      "outputs": []
    },
    {
      "cell_type": "code",
      "metadata": {
        "id": "DncGkaIqx6Y_"
      },
      "source": [
        "# Continuous Variable\n",
        "continuous_feature = [feature for feature in numerical_features if feature not in discrete_feature + date_feature + [\"tracking_id\"]]\n",
        "print(\"Continuous feature count {}\".format(len(continuous_feature)))"
      ],
      "execution_count": null,
      "outputs": []
    },
    {
      "cell_type": "markdown",
      "metadata": {
        "id": "_5wo_hWMBfyR"
      },
      "source": [
        "# Replacing the Continuous Variable Missing Values"
      ]
    },
    {
      "cell_type": "code",
      "metadata": {
        "id": "wsWME99FASZX"
      },
      "source": [
        "for feature in continuous_feature:\n",
        "    ## We will replace by using median since there are outliers\n",
        "    median_value=dataset[feature].median()\n",
        "    \n",
        "    ## create a new feature to capture nan values\n",
        "    dataset[feature].fillna(median_value,inplace=True)\n",
        "    \n",
        "dataset[continuous_feature].isnull().sum()"
      ],
      "execution_count": null,
      "outputs": []
    },
    {
      "cell_type": "markdown",
      "metadata": {
        "id": "3B-5Cv-dBiG-"
      },
      "source": [
        "# check the categorical features"
      ]
    },
    {
      "cell_type": "code",
      "metadata": {
        "id": "5U0ipknC9RFq"
      },
      "source": [
        "# check the categorical features\n",
        "categorical_features=[feature for feature in dataset.columns if dataset[feature].dtype=='O'and feature not in date_feature + [\"tracking_id\"]]\n",
        "print(categorical_features)"
      ],
      "execution_count": null,
      "outputs": []
    },
    {
      "cell_type": "code",
      "metadata": {
        "id": "nHfCBHdh9RRF"
      },
      "source": [
        "# Check for unique values\n",
        "dataset.turbine_status.unique()"
      ],
      "execution_count": null,
      "outputs": []
    },
    {
      "cell_type": "code",
      "metadata": {
        "id": "i4kHGYSz_aX6"
      },
      "source": [
        "# Check for unique values\n",
        "dataset.cloud_level.unique()"
      ],
      "execution_count": null,
      "outputs": []
    },
    {
      "cell_type": "code",
      "metadata": {
        "id": "GmXZtyNd_ajb"
      },
      "source": [
        "most_frequent_category_cloud_level=dataset.cloud_level.mode()[0]\n",
        "print(most_frequent_category_cloud_level)"
      ],
      "execution_count": null,
      "outputs": []
    },
    {
      "cell_type": "code",
      "metadata": {
        "id": "fDzE0QhxJ2I6"
      },
      "source": [
        "most_frequent_category_turbine_status=dataset.turbine_status.mode()[0]\n",
        "print(most_frequent_category_turbine_status)"
      ],
      "execution_count": null,
      "outputs": []
    },
    {
      "cell_type": "code",
      "metadata": {
        "id": "yRTrlCrDcpgn"
      },
      "source": [
        "# replace nan values with most occured category\n",
        "dataset.cloud_level.fillna(most_frequent_category_cloud_level,inplace=True)\n",
        "dataset.turbine_status.fillna(most_frequent_category_turbine_status,inplace=True)"
      ],
      "execution_count": null,
      "outputs": []
    },
    {
      "cell_type": "code",
      "metadata": {
        "id": "zdHzxbfyeF6r"
      },
      "source": [
        "# check for remaining missing values in categorical variables\n",
        "dataset[categorical_features].isnull().sum()"
      ],
      "execution_count": null,
      "outputs": []
    },
    {
      "cell_type": "markdown",
      "metadata": {
        "id": "K5jVp0SWUCB9"
      },
      "source": [
        "# One hot encoding for Categorical variables using Count of frequency method and target based ordinal Encoding "
      ]
    },
    {
      "cell_type": "code",
      "metadata": {
        "id": "x7mnktx7UFMr"
      },
      "source": [
        "dataset.turbine_status.value_counts()"
      ],
      "execution_count": null,
      "outputs": []
    },
    {
      "cell_type": "code",
      "metadata": {
        "id": "p9P6ZNnQUFjx"
      },
      "source": [
        "# We replace the turbine status using ocured values of each category i.e Count of Frequency\n",
        "# We start with converting values counts with dictionary\n",
        "turbine_status_map = dataset.turbine_status.value_counts().to_dict()"
      ],
      "execution_count": null,
      "outputs": []
    },
    {
      "cell_type": "code",
      "metadata": {
        "id": "f7Fs1rM2UF3z"
      },
      "source": [
        "dataset.turbine_status = dataset.turbine_status.map(turbine_status_map)"
      ],
      "execution_count": null,
      "outputs": []
    },
    {
      "cell_type": "code",
      "metadata": {
        "id": "2rqQ-7wKW5V3"
      },
      "source": [
        "dataset.head()"
      ],
      "execution_count": null,
      "outputs": []
    },
    {
      "cell_type": "code",
      "metadata": {
        "id": "NYaIPPOLW5ep"
      },
      "source": [
        "# Lest see another categorical vairiable cloud level\n",
        "dataset.cloud_level.value_counts()"
      ],
      "execution_count": null,
      "outputs": []
    },
    {
      "cell_type": "code",
      "metadata": {
        "id": "pV1ocVkNW5nn"
      },
      "source": [
        "# Lets implement the target based ordinal Encoding for this fetaure. It will assign integers to labels in the specific order that is observed in the data \n",
        "# and labels will have relation between them"
      ],
      "execution_count": null,
      "outputs": []
    },
    {
      "cell_type": "code",
      "metadata": {
        "id": "EnVkHenGW6JN"
      },
      "source": [
        "dataset.groupby([\"cloud_level\"])[\"windmill_generated_power(kW/h)\"].mean()"
      ],
      "execution_count": null,
      "outputs": []
    },
    {
      "cell_type": "code",
      "metadata": {
        "id": "Zl1TXATzbIda"
      },
      "source": [
        "# Lets sort the values\n",
        "dataset.groupby([\"cloud_level\"])[\"windmill_generated_power(kW/h)\"].mean().sort_values()"
      ],
      "execution_count": null,
      "outputs": []
    },
    {
      "cell_type": "code",
      "metadata": {
        "id": "V5y99sQWbIrU"
      },
      "source": [
        "# Lets index it\n",
        "dataset.groupby([\"cloud_level\"])[\"windmill_generated_power(kW/h)\"].mean().index"
      ],
      "execution_count": null,
      "outputs": []
    },
    {
      "cell_type": "code",
      "metadata": {
        "id": "AXxWsNxrbI5M"
      },
      "source": [
        "# Named it as ordinal label\n",
        "ordinal_label_cloud = dataset.groupby([\"cloud_level\"])[\"windmill_generated_power(kW/h)\"].mean().index"
      ],
      "execution_count": null,
      "outputs": []
    },
    {
      "cell_type": "code",
      "metadata": {
        "id": "OM2k3qiwcaUF"
      },
      "source": [
        "# # Lets map these labels to dictionary\n",
        "enumerate(ordinal_label_cloud, 0)"
      ],
      "execution_count": null,
      "outputs": []
    },
    {
      "cell_type": "code",
      "metadata": {
        "id": "nv8drLhnb2F7"
      },
      "source": [
        "# Lets map these labels to dictionary\n",
        "ordinal_label_cloud_2 = {k:i for i,k in enumerate(ordinal_label_cloud, 0)}"
      ],
      "execution_count": null,
      "outputs": []
    },
    {
      "cell_type": "code",
      "metadata": {
        "id": "Rr8SG1h4b2Pd"
      },
      "source": [
        "ordinal_label_cloud_2"
      ],
      "execution_count": null,
      "outputs": []
    },
    {
      "cell_type": "code",
      "metadata": {
        "id": "8N2TU0-rb2XT"
      },
      "source": [
        "# Now lets map newly created ordinal dictionary to datset\n",
        "dataset.cloud_level = dataset.cloud_level.map(ordinal_label_cloud_2)"
      ],
      "execution_count": null,
      "outputs": []
    },
    {
      "cell_type": "code",
      "metadata": {
        "id": "XF476N2fb2fp"
      },
      "source": [
        "dataset.head()"
      ],
      "execution_count": null,
      "outputs": []
    },
    {
      "cell_type": "markdown",
      "metadata": {
        "id": "oViFZ3WodVqA"
      },
      "source": [
        "# Lets analyse the continuous values by creating histograms to understand the distribution"
      ]
    },
    {
      "cell_type": "code",
      "metadata": {
        "colab": {
          "background_save": true
        },
        "id": "Y6IMZFC-zrFz",
        "outputId": "9a6fe0b7-81a5-400c-e63f-b9f4f49bed61"
      },
      "source": [
        "# Lets analyse the continuous values by creating histograms to understand the distribution\n",
        "\n",
        "for feature in continuous_feature:\n",
        "  data = dataset.copy()\n",
        "  data[feature].hist(bins = 25)\n",
        "  plt.xlabel(feature)\n",
        "  plt.ylabel(\"count\")\n",
        "  plt.title(feature)\n",
        "  plt.show()"
      ],
      "execution_count": null,
      "outputs": [
        {
          "output_type": "display_data",
          "data": {
            "image/png": "[encoded data removed]",
            "text/plain": [
              "<Figure size 432x288 with 1 Axes>"
            ]
          },
          "metadata": {
            "tags": []
          }
        },
        {
          "output_type": "display_data",
          "data": {
            "image/png": "[encoded data removed]",
            "text/plain": [
              "<Figure size 432x288 with 1 Axes>"
            ]
          },
          "metadata": {
            "tags": []
          }
        },
        {
          "output_type": "display_data",
          "data": {
            "image/png": "[encoded data removed]",
            "text/plain": [
              "<Figure size 432x288 with 1 Axes>"
            ]
          },
          "metadata": {
            "tags": []
          }
        },
        {
          "output_type": "display_data",
          "data": {
            "image/png": "[encoded data removed]",
            "text/plain": [
              "<Figure size 432x288 with 1 Axes>"
            ]
          },
          "metadata": {
            "tags": []
          }
        },
        {
          "output_type": "display_data",
          "data": {
            "image/png": "[encoded data removed]",
            "text/plain": [
              "<Figure size 432x288 with 1 Axes>"
            ]
          },
          "metadata": {
            "tags": []
          }
        },
        {
          "output_type": "display_data",
          "data": {
            "image/png": "[encoded data removed]",
            "text/plain": [
              "<Figure size 432x288 with 1 Axes>"
            ]
          },
          "metadata": {
            "tags": []
          }
        },
        {
          "output_type": "display_data",
          "data": {
            "image/png": "[encoded data removed]",
            "text/plain": [
              "<Figure size 432x288 with 1 Axes>"
            ]
          },
          "metadata": {
            "tags": []
          }
        },
        {
          "output_type": "display_data",
          "data": {
            "image/png": "[encoded data removed]",
            "text/plain": [
              "<Figure size 432x288 with 1 Axes>"
            ]
          },
          "metadata": {
            "tags": []
          }
        },
        {
          "output_type": "display_data",
          "data": {
            "image/png": "[encoded data removed]",
            "text/plain": [
              "<Figure size 432x288 with 1 Axes>"
            ]
          },
          "metadata": {
            "tags": []
          }
        },
        {
          "output_type": "display_data",
          "data": {
            "image/png": "[encoded data removed]",
            "text/plain": [
              "<Figure size 432x288 with 1 Axes>"
            ]
          },
          "metadata": {
            "tags": []
          }
        },
        {
          "output_type": "display_data",
          "data": {
            "image/png": "[encoded data removed]",
            "text/plain": [
              "<Figure size 432x288 with 1 Axes>"
            ]
          },
          "metadata": {
            "tags": []
          }
        },
        {
          "output_type": "display_data",
          "data": {
            "image/png": "[encoded data removed]",
            "text/plain": [
              "<Figure size 432x288 with 1 Axes>"
            ]
          },
          "metadata": {
            "tags": []
          }
        },
        {
          "output_type": "display_data",
          "data": {
            "image/png": "[encoded data removed]",
            "text/plain": [
              "<Figure size 432x288 with 1 Axes>"
            ]
          },
          "metadata": {
            "tags": []
          }
        },
        {
          "output_type": "display_data",
          "data": {
            "image/png": "[encoded data removed]",
            "text/plain": [
              "<Figure size 432x288 with 1 Axes>"
            ]
          },
          "metadata": {
            "tags": []
          }
        },
        {
          "output_type": "display_data",
          "data": {
            "image/png": "[encoded data removed]",
            "text/plain": [
              "<Figure size 432x288 with 1 Axes>"
            ]
          },
          "metadata": {
            "tags": []
          }
        },
        {
          "output_type": "display_data",
          "data": {
            "image/png": "[encoded data removed]",
            "text/plain": [
              "<Figure size 432x288 with 1 Axes>"
            ]
          },
          "metadata": {
            "tags": []
          }
        },
        {
          "output_type": "display_data",
          "data": {
            "image/png": "[encoded data removed]",
            "text/plain": [
              "<Figure size 432x288 with 1 Axes>"
            ]
          },
          "metadata": {
            "tags": []
          }
        },
        {
          "output_type": "display_data",
          "data": {
            "image/png": "[encoded data removed]",
            "text/plain": [
              "<Figure size 432x288 with 1 Axes>"
            ]
          },
          "metadata": {
            "tags": []
          }
        }
      ]
    },
    {
      "cell_type": "markdown",
      "metadata": {
        "id": "Vmp8pUqsIjj_"
      },
      "source": [
        "# Outliers"
      ]
    },
    {
      "cell_type": "code",
      "metadata": {
        "colab": {
          "background_save": true
        },
        "id": "mmkEZLDQ0Iim",
        "outputId": "d72eef0b-0087-46a6-f1fb-9c3b0567bb51"
      },
      "source": [
        "for feature in continuous_feature:\n",
        "  data = dataset.copy()\n",
        "  if 0 in data[feature].unique():\n",
        "    pass\n",
        "  else:\n",
        "    data[feature] = np.log(data[feature])\n",
        "    data.boxplot(column= feature)\n",
        "    plt.ylabel(feature)\n",
        "    plt.title(feature)\n",
        "    plt.show()"
      ],
      "execution_count": null,
      "outputs": [
        {
          "output_type": "stream",
          "text": [
            "/usr/local/lib/python3.7/dist-packages/pandas/core/series.py:726: RuntimeWarning: invalid value encountered in log\n",
            "  result = getattr(ufunc, method)(*inputs, **kwargs)\n"
          ],
          "name": "stderr"
        },
        {
          "output_type": "display_data",
          "data": {
            "image/png": "[encoded data removed]",
            "text/plain": [
              "<Figure size 432x288 with 1 Axes>"
            ]
          },
          "metadata": {
            "tags": []
          }
        },
        {
          "output_type": "stream",
          "text": [
            "/usr/local/lib/python3.7/dist-packages/pandas/core/series.py:726: RuntimeWarning: invalid value encountered in log\n",
            "  result = getattr(ufunc, method)(*inputs, **kwargs)\n"
          ],
          "name": "stderr"
        },
        {
          "output_type": "display_data",
          "data": {
            "image/png": "[encoded data removed]",
            "text/plain": [
              "<Figure size 432x288 with 1 Axes>"
            ]
          },
          "metadata": {
            "tags": []
          }
        },
        {
          "output_type": "stream",
          "text": [
            "/usr/local/lib/python3.7/dist-packages/pandas/core/series.py:726: RuntimeWarning: invalid value encountered in log\n",
            "  result = getattr(ufunc, method)(*inputs, **kwargs)\n"
          ],
          "name": "stderr"
        },
        {
          "output_type": "display_data",
          "data": {
            "image/png": "[encoded data removed]",
            "text/plain": [
              "<Figure size 432x288 with 1 Axes>"
            ]
          },
          "metadata": {
            "tags": []
          }
        },
        {
          "output_type": "stream",
          "text": [
            "/usr/local/lib/python3.7/dist-packages/pandas/core/series.py:726: RuntimeWarning: invalid value encountered in log\n",
            "  result = getattr(ufunc, method)(*inputs, **kwargs)\n"
          ],
          "name": "stderr"
        },
        {
          "output_type": "display_data",
          "data": {
            "image/png": "[encoded data removed]",
            "text/plain": [
              "<Figure size 432x288 with 1 Axes>"
            ]
          },
          "metadata": {
            "tags": []
          }
        },
        {
          "output_type": "display_data",
          "data": {
            "image/png": "[encoded data removed]",
            "text/plain": [
              "<Figure size 432x288 with 1 Axes>"
            ]
          },
          "metadata": {
            "tags": []
          }
        },
        {
          "output_type": "display_data",
          "data": {
            "image/png": "[encoded data removed]",
            "text/plain": [
              "<Figure size 432x288 with 1 Axes>"
            ]
          },
          "metadata": {
            "tags": []
          }
        },
        {
          "output_type": "display_data",
          "data": {
            "image/png": "[encoded data removed]",
            "text/plain": [
              "<Figure size 432x288 with 1 Axes>"
            ]
          },
          "metadata": {
            "tags": []
          }
        },
        {
          "output_type": "stream",
          "text": [
            "/usr/local/lib/python3.7/dist-packages/pandas/core/series.py:726: RuntimeWarning: invalid value encountered in log\n",
            "  result = getattr(ufunc, method)(*inputs, **kwargs)\n"
          ],
          "name": "stderr"
        },
        {
          "output_type": "display_data",
          "data": {
            "image/png": "[encoded data removed]",
            "text/plain": [
              "<Figure size 432x288 with 1 Axes>"
            ]
          },
          "metadata": {
            "tags": []
          }
        },
        {
          "output_type": "stream",
          "text": [
            "/usr/local/lib/python3.7/dist-packages/pandas/core/series.py:726: RuntimeWarning: invalid value encountered in log\n",
            "  result = getattr(ufunc, method)(*inputs, **kwargs)\n"
          ],
          "name": "stderr"
        },
        {
          "output_type": "display_data",
          "data": {
            "image/png": "[encoded data removed]",
            "text/plain": [
              "<Figure size 432x288 with 1 Axes>"
            ]
          },
          "metadata": {
            "tags": []
          }
        },
        {
          "output_type": "stream",
          "text": [
            "/usr/local/lib/python3.7/dist-packages/pandas/core/series.py:726: RuntimeWarning: invalid value encountered in log\n",
            "  result = getattr(ufunc, method)(*inputs, **kwargs)\n"
          ],
          "name": "stderr"
        },
        {
          "output_type": "display_data",
          "data": {
            "image/png": "[encoded data removed]",
            "text/plain": [
              "<Figure size 432x288 with 1 Axes>"
            ]
          },
          "metadata": {
            "tags": []
          }
        },
        {
          "output_type": "stream",
          "text": [
            "/usr/local/lib/python3.7/dist-packages/pandas/core/series.py:726: RuntimeWarning: invalid value encountered in log\n",
            "  result = getattr(ufunc, method)(*inputs, **kwargs)\n"
          ],
          "name": "stderr"
        },
        {
          "output_type": "display_data",
          "data": {
            "image/png": "[encoded data removed]",
            "text/plain": [
              "<Figure size 432x288 with 1 Axes>"
            ]
          },
          "metadata": {
            "tags": []
          }
        },
        {
          "output_type": "stream",
          "text": [
            "/usr/local/lib/python3.7/dist-packages/pandas/core/series.py:726: RuntimeWarning: invalid value encountered in log\n",
            "  result = getattr(ufunc, method)(*inputs, **kwargs)\n"
          ],
          "name": "stderr"
        },
        {
          "output_type": "display_data",
          "data": {
            "image/png": "[encoded data removed]",
            "text/plain": [
              "<Figure size 432x288 with 1 Axes>"
            ]
          },
          "metadata": {
            "tags": []
          }
        },
        {
          "output_type": "stream",
          "text": [
            "/usr/local/lib/python3.7/dist-packages/pandas/core/series.py:726: RuntimeWarning: invalid value encountered in log\n",
            "  result = getattr(ufunc, method)(*inputs, **kwargs)\n"
          ],
          "name": "stderr"
        },
        {
          "output_type": "display_data",
          "data": {
            "image/png": "[encoded data removed]",
            "text/plain": [
              "<Figure size 432x288 with 1 Axes>"
            ]
          },
          "metadata": {
            "tags": []
          }
        },
        {
          "output_type": "display_data",
          "data": {
            "image/png": "[encoded data removed]",
            "text/plain": [
              "<Figure size 432x288 with 1 Axes>"
            ]
          },
          "metadata": {
            "tags": []
          }
        },
        {
          "output_type": "stream",
          "text": [
            "/usr/local/lib/python3.7/dist-packages/pandas/core/series.py:726: RuntimeWarning: invalid value encountered in log\n",
            "  result = getattr(ufunc, method)(*inputs, **kwargs)\n"
          ],
          "name": "stderr"
        },
        {
          "output_type": "display_data",
          "data": {
            "image/png": "[encoded data removed]",
            "text/plain": [
              "<Figure size 432x288 with 1 Axes>"
            ]
          },
          "metadata": {
            "tags": []
          }
        },
        {
          "output_type": "display_data",
          "data": {
            "image/png": "[encoded data removed]",
            "text/plain": [
              "<Figure size 432x288 with 1 Axes>"
            ]
          },
          "metadata": {
            "tags": []
          }
        }
      ]
    },
    {
      "cell_type": "markdown",
      "metadata": {
        "id": "s9lYQPfmk4Rg"
      },
      "source": [
        "# Check and correct the outliers in each continuous variable\n",
        "# 1. Wind Speed"
      ]
    },
    {
      "cell_type": "code",
      "metadata": {
        "colab": {
          "background_save": true
        },
        "id": "oo7_QMVXiHDy",
        "outputId": "28c69f7b-d498-4d14-caa1-7b72c0783dec"
      },
      "source": [
        "# Check wind speed properties\n",
        "dataset['wind_speed(m/s)'].describe()"
      ],
      "execution_count": null,
      "outputs": [
        {
          "output_type": "execute_result",
          "data": {
            "text/plain": [
              "count    28200.000000\n",
              "mean        69.271978\n",
              "std         75.942703\n",
              "min       -496.211029\n",
              "25%         21.250907\n",
              "50%         93.302129\n",
              "75%         95.248020\n",
              "max        601.455670\n",
              "Name: wind_speed(m/s), dtype: float64"
            ]
          },
          "metadata": {
            "tags": []
          },
          "execution_count": 0
        }
      ]
    },
    {
      "cell_type": "code",
      "metadata": {
        "colab": {
          "background_save": true
        },
        "id": "0IGsdltKiSFs",
        "outputId": "68d2a7d0-12a6-4a39-cb80-503b4356ae41"
      },
      "source": [
        "# Lets check its disribution\n",
        "figure=dataset['wind_speed(m/s)'].hist(bins=50)\n",
        "figure.set_title('wind_speed')\n",
        "figure.set_xlabel('wind_speed')\n",
        "figure.set_ylabel('Readings')"
      ],
      "execution_count": null,
      "outputs": [
        {
          "output_type": "execute_result",
          "data": {
            "text/plain": [
              "Text(0, 0.5, 'Readings')"
            ]
          },
          "metadata": {
            "tags": []
          },
          "execution_count": 0
        },
        {
          "output_type": "display_data",
          "data": {
            "image/png": "[encoded data removed]",
            "text/plain": [
              "<Figure size 432x288 with 1 Axes>"
            ]
          },
          "metadata": {
            "tags": []
          }
        }
      ]
    },
    {
      "cell_type": "code",
      "metadata": {
        "colab": {
          "background_save": true
        },
        "id": "9GEp9X7QJTiJ",
        "outputId": "cbce6d18-186e-4122-da28-6d1b33b538a2"
      },
      "source": [
        "# Assuming wind speed follows A Gaussian Distribution we will calculate the boundaries which differentiates the outliers\n",
        "uppper_boundary_wind_speed=dataset['wind_speed(m/s)'].mean() + 3* dataset['wind_speed(m/s)'].std()\n",
        "lower_boundary_wind_speed=dataset['wind_speed(m/s)'].mean() - 3* dataset['wind_speed(m/s)'].std()\n",
        "print(lower_boundary_wind_speed), print(uppper_boundary_wind_speed),print(dataset['wind_speed(m/s)'].mean())"
      ],
      "execution_count": null,
      "outputs": [
        {
          "output_type": "stream",
          "text": [
            "-158.55613046704474\n",
            "297.10008605941096\n",
            "69.2719777961831\n"
          ],
          "name": "stdout"
        },
        {
          "output_type": "execute_result",
          "data": {
            "text/plain": [
              "(None, None, None)"
            ]
          },
          "metadata": {
            "tags": []
          },
          "execution_count": 0
        }
      ]
    },
    {
      "cell_type": "code",
      "metadata": {
        "colab": {
          "background_save": true
        },
        "id": "JYHrNzlAhzw1"
      },
      "source": [
        "# Remove the outliers from wind speed\n",
        "dataset.loc[dataset['wind_speed(m/s)']<= 0,'wind_speed(m/s)']=0     # we are replacing negative values with 0 \n",
        "dataset.loc[dataset['wind_speed(m/s)']>= 297,'wind_speed(m/s)']=297     # we are replacing values greater than 297 with 297"
      ],
      "execution_count": null,
      "outputs": []
    },
    {
      "cell_type": "code",
      "metadata": {
        "colab": {
          "background_save": true
        },
        "id": "VFWJOH-GkTjF",
        "outputId": "624ab4af-88a9-4b3d-bd47-a3b42580773a"
      },
      "source": [
        "# Check the wind speed column again\n",
        "dataset[\"wind_speed(m/s)\"].describe()"
      ],
      "execution_count": null,
      "outputs": [
        {
          "output_type": "execute_result",
          "data": {
            "text/plain": [
              "count    28200.000000\n",
              "mean        76.189042\n",
              "std         59.046594\n",
              "min          0.000000\n",
              "25%         21.250907\n",
              "50%         93.302129\n",
              "75%         95.248020\n",
              "max        297.000000\n",
              "Name: wind_speed(m/s), dtype: float64"
            ]
          },
          "metadata": {
            "tags": []
          },
          "execution_count": 0
        }
      ]
    },
    {
      "cell_type": "markdown",
      "metadata": {
        "id": "yQiTKlaFlJyI"
      },
      "source": [
        "# 2. Atmospheric_temperature(°C)"
      ]
    },
    {
      "cell_type": "code",
      "metadata": {
        "colab": {
          "background_save": true
        },
        "id": "GkzKKc27ksHc",
        "outputId": "3df05b41-6da7-42e5-947f-9bc239b93fc6"
      },
      "source": [
        "dataset[\"atmospheric_temperature(°C)\"].describe()"
      ],
      "execution_count": null,
      "outputs": [
        {
          "output_type": "execute_result",
          "data": {
            "text/plain": [
              "count    28200.000000\n",
              "mean         2.306757\n",
              "std         41.800134\n",
              "min        -99.000000\n",
              "25%          9.383737\n",
              "50%         16.102410\n",
              "75%         22.575311\n",
              "max         80.217444\n",
              "Name: atmospheric_temperature(°C), dtype: float64"
            ]
          },
          "metadata": {
            "tags": []
          },
          "execution_count": 0
        }
      ]
    },
    {
      "cell_type": "code",
      "metadata": {
        "colab": {
          "background_save": true
        },
        "id": "12wD2fTUlXBF",
        "outputId": "ddd6ff98-1403-42a8-aec2-6f2e3eae6832"
      },
      "source": [
        "# Lets check its disribution\n",
        "figure=dataset[\"atmospheric_temperature(°C)\"].hist(bins=50)\n",
        "figure.set_title('ATM Temp')\n",
        "figure.set_xlabel('atm temp')\n",
        "figure.set_ylabel('Readings')"
      ],
      "execution_count": null,
      "outputs": [
        {
          "output_type": "execute_result",
          "data": {
            "text/plain": [
              "Text(0, 0.5, 'Readings')"
            ]
          },
          "metadata": {
            "tags": []
          },
          "execution_count": 0
        },
        {
          "output_type": "display_data",
          "data": {
            "image/png": "[encoded data removed]",
            "text/plain": [
              "<Figure size 432x288 with 1 Axes>"
            ]
          },
          "metadata": {
            "tags": []
          }
        }
      ]
    },
    {
      "cell_type": "code",
      "metadata": {
        "colab": {
          "background_save": true
        },
        "id": "9LQGOj5qqviq",
        "outputId": "8b39abaa-a43b-41d5-e13e-c03906ae7d64"
      },
      "source": [
        "# Assuming atmospheric_temperature follows A Gaussian Distribution we will calculate the boundaries which differentiates the outliers\n",
        "uppper_boundary_atmospheric_temperature=dataset['atmospheric_temperature(°C)'].mean() + 3* dataset['atmospheric_temperature(°C)'].std()\n",
        "lower_boundary_atmospheric_temperature=dataset['atmospheric_temperature(°C)'].mean() - 3* dataset['atmospheric_temperature(°C)'].std()\n",
        "print(lower_boundary_atmospheric_temperature), print(uppper_boundary_atmospheric_temperature),print(dataset['atmospheric_temperature(°C)'].median())"
      ],
      "execution_count": null,
      "outputs": [
        {
          "output_type": "stream",
          "text": [
            "-123.0936441581171\n",
            "127.70715910122381\n",
            "16.102410348693198\n"
          ],
          "name": "stdout"
        },
        {
          "output_type": "execute_result",
          "data": {
            "text/plain": [
              "(None, None, None)"
            ]
          },
          "metadata": {
            "tags": []
          },
          "execution_count": 0
        }
      ]
    },
    {
      "cell_type": "code",
      "metadata": {
        "colab": {
          "background_save": true
        },
        "id": "XQ2f-e3drQBI"
      },
      "source": [
        "# Lets compute the Interquantile range to calculate the boundaries assuming that distribution is not Gausian\n",
        "IQR=dataset['atmospheric_temperature(°C)'].quantile(0.75)-dataset['atmospheric_temperature(°C)'].quantile(0.25)"
      ],
      "execution_count": null,
      "outputs": []
    },
    {
      "cell_type": "code",
      "metadata": {
        "colab": {
          "background_save": true
        },
        "id": "-tDLQyVPrrTV",
        "outputId": "078c0dd1-4c8e-4ba3-9ec2-d1c8eb54092f"
      },
      "source": [
        "lower_bridge_atmospheric_temperature=dataset['atmospheric_temperature(°C)'].quantile(0.25)-(IQR*1.5)\n",
        "upper_bridge_atmospheric_temperature=dataset['atmospheric_temperature(°C)'].quantile(0.75)+(IQR*1.5)\n",
        "print(lower_bridge_atmospheric_temperature), print(upper_bridge_atmospheric_temperature)"
      ],
      "execution_count": null,
      "outputs": [
        {
          "output_type": "stream",
          "text": [
            "-10.403624134189112\n",
            "42.36267235832675\n"
          ],
          "name": "stdout"
        },
        {
          "output_type": "execute_result",
          "data": {
            "text/plain": [
              "(None, None)"
            ]
          },
          "metadata": {
            "tags": []
          },
          "execution_count": 0
        }
      ]
    },
    {
      "cell_type": "code",
      "metadata": {
        "colab": {
          "background_save": true
        },
        "id": "a4gWGeDwr5UC"
      },
      "source": [
        "# Remove the outliers from atmospheric_temperature\n",
        "dataset.loc[dataset['atmospheric_temperature(°C)']<= -10,'atmospheric_temperature(°C)']=-10     # we are replacing negative values with -10 \n",
        "dataset.loc[dataset['atmospheric_temperature(°C)']>= 42,'atmospheric_temperature(°C)']=42     # we are replacing values greater than 42 with 42"
      ],
      "execution_count": null,
      "outputs": []
    },
    {
      "cell_type": "code",
      "metadata": {
        "colab": {
          "background_save": true
        },
        "id": "nhd1ZkbDslKk",
        "outputId": "f2363d6a-11b5-4018-ff27-73180377173f"
      },
      "source": [
        "dataset['atmospheric_temperature(°C)'].describe()"
      ],
      "execution_count": null,
      "outputs": [
        {
          "output_type": "execute_result",
          "data": {
            "text/plain": [
              "count    28200.000000\n",
              "mean        14.673060\n",
              "std         13.013793\n",
              "min        -10.000000\n",
              "25%          9.383737\n",
              "50%         16.102410\n",
              "75%         22.575311\n",
              "max         42.000000\n",
              "Name: atmospheric_temperature(°C), dtype: float64"
            ]
          },
          "metadata": {
            "tags": []
          },
          "execution_count": 0
        }
      ]
    },
    {
      "cell_type": "markdown",
      "metadata": {
        "id": "qwLPpTgTtCAK"
      },
      "source": [
        "# 3. shaft_temperature(°C)"
      ]
    },
    {
      "cell_type": "code",
      "metadata": {
        "colab": {
          "background_save": true
        },
        "id": "ds4Ic9H2svFC",
        "outputId": "132bec2c-d424-41cb-a891-3df888a81666"
      },
      "source": [
        "dataset[\"shaft_temperature(°C)\"].describe()"
      ],
      "execution_count": null,
      "outputs": [
        {
          "output_type": "execute_result",
          "data": {
            "text/plain": [
              "count    28200.000000\n",
              "mean        40.085642\n",
              "std         27.203482\n",
              "min        -99.000000\n",
              "25%         41.633671\n",
              "50%         43.686082\n",
              "75%         45.673234\n",
              "max        169.820455\n",
              "Name: shaft_temperature(°C), dtype: float64"
            ]
          },
          "metadata": {
            "tags": []
          },
          "execution_count": 0
        }
      ]
    },
    {
      "cell_type": "code",
      "metadata": {
        "colab": {
          "background_save": true
        },
        "id": "QR953n9ZtIFo",
        "outputId": "509e1921-620e-47fc-cfc4-5a25b25da05e"
      },
      "source": [
        "# Lets check its disribution\n",
        "figure=dataset[\"shaft_temperature(°C)\"].hist(bins=50)\n",
        "figure.set_title('shaft Temp')\n",
        "figure.set_xlabel('Shaft temp')\n",
        "figure.set_ylabel('Readings')"
      ],
      "execution_count": null,
      "outputs": [
        {
          "output_type": "execute_result",
          "data": {
            "text/plain": [
              "Text(0, 0.5, 'Readings')"
            ]
          },
          "metadata": {
            "tags": []
          },
          "execution_count": 0
        },
        {
          "output_type": "display_data",
          "data": {
            "image/png": "[encoded data removed]",
            "text/plain": [
              "<Figure size 432x288 with 1 Axes>"
            ]
          },
          "metadata": {
            "tags": []
          }
        }
      ]
    },
    {
      "cell_type": "code",
      "metadata": {
        "colab": {
          "background_save": true
        },
        "id": "kyzK9EkjtU6N",
        "outputId": "e3237af9-ecb3-47fb-b267-153abf7e487f"
      },
      "source": [
        "# Assuming atmospheric_temperature follows A Gaussian Distribution we will calculate the boundaries which differentiates the outliers\n",
        "uppper_boundary_shaft_temperature=dataset['shaft_temperature(°C)'].mean() + 3* dataset['shaft_temperature(°C)'].std()\n",
        "lower_boundary_shaft_temperature=dataset['shaft_temperature(°C)'].mean() - 3* dataset['shaft_temperature(°C)'].std()\n",
        "print(lower_boundary_shaft_temperature), print(uppper_boundary_shaft_temperature),print(dataset['shaft_temperature(°C)'].median())"
      ],
      "execution_count": null,
      "outputs": [
        {
          "output_type": "stream",
          "text": [
            "-41.524802994063165\n",
            "121.696087155715\n",
            "43.68608192545875\n"
          ],
          "name": "stdout"
        },
        {
          "output_type": "execute_result",
          "data": {
            "text/plain": [
              "(None, None, None)"
            ]
          },
          "metadata": {
            "tags": []
          },
          "execution_count": 0
        }
      ]
    },
    {
      "cell_type": "code",
      "metadata": {
        "colab": {
          "background_save": true
        },
        "id": "mFwwQFuVtrSc"
      },
      "source": [
        "# Lets compute the Interquantile range to calculate the boundaries assuming that distribution is not Gausian\n",
        "IQR_shaft_temperature=dataset['shaft_temperature(°C)'].quantile(0.75)-dataset['shaft_temperature(°C)'].quantile(0.25)"
      ],
      "execution_count": null,
      "outputs": []
    },
    {
      "cell_type": "code",
      "metadata": {
        "colab": {
          "background_save": true
        },
        "id": "8CTsEfzht_2t",
        "outputId": "fde457f5-a71a-4b88-87f5-3df80eb07321"
      },
      "source": [
        "lower_bridge_shaft_temperature=dataset['shaft_temperature(°C)'].quantile(0.25)-(IQR_shaft_temperature*1.5)\n",
        "upper_bridge_shaft_temperature=dataset['shaft_temperature(°C)'].quantile(0.75)+(IQR_shaft_temperature*1.5)\n",
        "print(lower_bridge_shaft_temperature), print(upper_bridge_shaft_temperature)"
      ],
      "execution_count": null,
      "outputs": [
        {
          "output_type": "stream",
          "text": [
            "35.574325946599416\n",
            "51.732578783826526\n"
          ],
          "name": "stdout"
        },
        {
          "output_type": "execute_result",
          "data": {
            "text/plain": [
              "(None, None)"
            ]
          },
          "metadata": {
            "tags": []
          },
          "execution_count": 0
        }
      ]
    },
    {
      "cell_type": "code",
      "metadata": {
        "colab": {
          "background_save": true
        },
        "id": "w3cTa3PruhBs"
      },
      "source": [
        "# Lets remove the outliers using Gausian distribution assumption\n",
        "dataset.loc[dataset['shaft_temperature(°C)']<= -41,'shaft_temperature(°C)']=-41     # we are replacing negative values with -41 \n",
        "dataset.loc[dataset['shaft_temperature(°C)']>= 121,'shaft_temperature(°C)']=121     # we are replacing values greater than 121 with 121"
      ],
      "execution_count": null,
      "outputs": []
    },
    {
      "cell_type": "code",
      "metadata": {
        "colab": {
          "background_save": true
        },
        "id": "XSS9zzV7vUYN",
        "outputId": "aa5ff235-1fb9-48d1-a91a-060d43c31de5"
      },
      "source": [
        "dataset[\"shaft_temperature(°C)\"].describe()"
      ],
      "execution_count": null,
      "outputs": [
        {
          "output_type": "execute_result",
          "data": {
            "text/plain": [
              "count    28200.000000\n",
              "mean        41.231281\n",
              "std         21.891056\n",
              "min        -41.000000\n",
              "25%         41.633671\n",
              "50%         43.686082\n",
              "75%         45.673234\n",
              "max        121.000000\n",
              "Name: shaft_temperature(°C), dtype: float64"
            ]
          },
          "metadata": {
            "tags": []
          },
          "execution_count": 0
        }
      ]
    },
    {
      "cell_type": "markdown",
      "metadata": {
        "id": "wVTkNpTCvigP"
      },
      "source": [
        "# 4.blades_angle(°)"
      ]
    },
    {
      "cell_type": "code",
      "metadata": {
        "colab": {
          "background_save": true
        },
        "id": "m9UBK32kvYw5",
        "outputId": "a531d5b3-870d-4bd3-917a-2d3368f182b0"
      },
      "source": [
        "dataset[\"blades_angle(°)\"].describe()"
      ],
      "execution_count": null,
      "outputs": [
        {
          "output_type": "execute_result",
          "data": {
            "text/plain": [
              "count    28200.000000\n",
              "mean        -9.583888\n",
              "std         47.740964\n",
              "min       -146.259543\n",
              "25%         -1.194486\n",
              "50%         -0.495608\n",
              "75%          5.370015\n",
              "max        165.932123\n",
              "Name: blades_angle(°), dtype: float64"
            ]
          },
          "metadata": {
            "tags": []
          },
          "execution_count": 0
        }
      ]
    },
    {
      "cell_type": "code",
      "metadata": {
        "colab": {
          "background_save": true
        },
        "id": "h0CQo1dJvowx",
        "outputId": "edeac728-e61d-4f05-ed0e-22c3e8481232"
      },
      "source": [
        "# Lets check its disribution\n",
        "figure=dataset[\"blades_angle(°)\"].hist(bins=50)\n",
        "figure.set_title('blades_angle')\n",
        "figure.set_xlabel('blades_angle')\n",
        "figure.set_ylabel('Readings')"
      ],
      "execution_count": null,
      "outputs": [
        {
          "output_type": "execute_result",
          "data": {
            "text/plain": [
              "Text(0, 0.5, 'Readings')"
            ]
          },
          "metadata": {
            "tags": []
          },
          "execution_count": 0
        },
        {
          "output_type": "display_data",
          "data": {
            "image/png": "[encoded data removed]",
            "text/plain": [
              "<Figure size 432x288 with 1 Axes>"
            ]
          },
          "metadata": {
            "tags": []
          }
        }
      ]
    },
    {
      "cell_type": "code",
      "metadata": {
        "colab": {
          "background_save": true
        },
        "id": "_rb1W7Twv5wR",
        "outputId": "08fd2712-71ba-403e-960b-2a2e2e700891"
      },
      "source": [
        "# Assuming atmospheric_temperature follows A Gaussian Distribution we will calculate the boundaries which differentiates the outliers\n",
        "uppper_boundary_blades_angle=dataset['blades_angle(°)'].mean() + 3* dataset['blades_angle(°)'].std()\n",
        "lower_boundary_blades_angle=dataset['blades_angle(°)'].mean() - 3* dataset['blades_angle(°)'].std()\n",
        "print(uppper_boundary_blades_angle), print(lower_boundary_blades_angle),print(dataset['blades_angle(°)'].median())"
      ],
      "execution_count": null,
      "outputs": [
        {
          "output_type": "stream",
          "text": [
            "133.63900237170958\n",
            "-152.80677907981408\n",
            "-0.4956079047522478\n"
          ],
          "name": "stdout"
        },
        {
          "output_type": "execute_result",
          "data": {
            "text/plain": [
              "(None, None, None)"
            ]
          },
          "metadata": {
            "tags": []
          },
          "execution_count": 0
        }
      ]
    },
    {
      "cell_type": "code",
      "metadata": {
        "colab": {
          "background_save": true
        },
        "id": "5OxU_JCgwZsX"
      },
      "source": [
        "# Lets compute the Interquantile range to calculate the boundaries assuming that distribution is not Gausian\n",
        "IQR_blades_angle=dataset['blades_angle(°)'].quantile(0.75)-dataset['blades_angle(°)'].quantile(0.25)"
      ],
      "execution_count": null,
      "outputs": []
    },
    {
      "cell_type": "code",
      "metadata": {
        "colab": {
          "background_save": true
        },
        "id": "PWHusozswwzW",
        "outputId": "fb6bec16-0485-41a7-f8da-dba8df4a856f"
      },
      "source": [
        "lower_bridge_blades_angle=dataset['blades_angle(°)'].quantile(0.25)-(IQR_blades_angle*1.5)\n",
        "upper_bridge_blades_angle=dataset['blades_angle(°)'].quantile(0.75)+(IQR_blades_angle*1.5)\n",
        "print(lower_bridge_blades_angle), print(upper_bridge_blades_angle)"
      ],
      "execution_count": null,
      "outputs": [
        {
          "output_type": "stream",
          "text": [
            "-11.041238410339705\n",
            "15.216766866842473\n"
          ],
          "name": "stdout"
        },
        {
          "output_type": "execute_result",
          "data": {
            "text/plain": [
              "(None, None)"
            ]
          },
          "metadata": {
            "tags": []
          },
          "execution_count": 0
        }
      ]
    },
    {
      "cell_type": "code",
      "metadata": {
        "colab": {
          "background_save": true
        },
        "id": "vgRrH_m1xIB0"
      },
      "source": [
        "# Lets remove the outliers using NON Gausian distribution assumption\n",
        "dataset.loc[dataset['blades_angle(°)']<= -11,'blades_angle(°)']=-11     # we are replacing negative values with -11 \n",
        "dataset.loc[dataset['blades_angle(°)']>= 15,'blades_angle(°)']=15     # we are replacing values greater than 15 with 15"
      ],
      "execution_count": null,
      "outputs": []
    },
    {
      "cell_type": "code",
      "metadata": {
        "colab": {
          "background_save": true
        },
        "id": "qUocGi5rxghw",
        "outputId": "e76b09c0-2ab6-4b5d-ab8e-0079a38678ef"
      },
      "source": [
        "dataset[\"blades_angle(°)\"].describe()"
      ],
      "execution_count": null,
      "outputs": [
        {
          "output_type": "execute_result",
          "data": {
            "text/plain": [
              "count    28200.000000\n",
              "mean         1.082928\n",
              "std          8.150333\n",
              "min        -11.000000\n",
              "25%         -1.194486\n",
              "50%         -0.495608\n",
              "75%          5.370015\n",
              "max         15.000000\n",
              "Name: blades_angle(°), dtype: float64"
            ]
          },
          "metadata": {
            "tags": []
          },
          "execution_count": 0
        }
      ]
    },
    {
      "cell_type": "markdown",
      "metadata": {
        "id": "VXNPE4rB0cXT"
      },
      "source": [
        "# 5. Gearbox_temperature(°C)"
      ]
    },
    {
      "cell_type": "code",
      "metadata": {
        "colab": {
          "background_save": true
        },
        "id": "nxbuPPWJxkDj",
        "outputId": "96fcd9dd-25ac-47ca-a792-ff7d2d4f6c43"
      },
      "source": [
        "dataset[\"gearbox_temperature(°C)\"].describe()"
      ],
      "execution_count": null,
      "outputs": [
        {
          "output_type": "execute_result",
          "data": {
            "text/plain": [
              "count    28200.000000\n",
              "mean        41.027833\n",
              "std         43.662833\n",
              "min       -244.974098\n",
              "25%         40.557993\n",
              "50%         43.221735\n",
              "75%         45.879212\n",
              "max        999.000000\n",
              "Name: gearbox_temperature(°C), dtype: float64"
            ]
          },
          "metadata": {
            "tags": []
          },
          "execution_count": 0
        }
      ]
    },
    {
      "cell_type": "code",
      "metadata": {
        "colab": {
          "background_save": true
        },
        "id": "kPCCdDlH0jju",
        "outputId": "32c9f1ae-592d-421b-d7c4-03d66faad411"
      },
      "source": [
        "# Lets check its disribution\n",
        "figure=dataset[\"gearbox_temperature(°C)\"].hist(bins=50)\n",
        "figure.set_title('gearbox_temperature')\n",
        "figure.set_xlabel('gearbox_temperature')\n",
        "figure.set_ylabel('Readings')"
      ],
      "execution_count": null,
      "outputs": [
        {
          "output_type": "execute_result",
          "data": {
            "text/plain": [
              "Text(0, 0.5, 'Readings')"
            ]
          },
          "metadata": {
            "tags": []
          },
          "execution_count": 0
        },
        {
          "output_type": "display_data",
          "data": {
            "image/png": "[encoded data removed]",
            "text/plain": [
              "<Figure size 432x288 with 1 Axes>"
            ]
          },
          "metadata": {
            "tags": []
          }
        }
      ]
    },
    {
      "cell_type": "code",
      "metadata": {
        "colab": {
          "background_save": true
        },
        "id": "sR0St0Zt0xJN",
        "outputId": "64ed1225-bcda-49c2-aaa4-fc450968d656"
      },
      "source": [
        "# Assuming atmospheric_temperature follows A Gaussian Distribution we will calculate the boundaries which differentiates the outliers\n",
        "uppper_boundary_gearbox_temperature=dataset['gearbox_temperature(°C)'].mean() + 3* dataset['gearbox_temperature(°C)'].std()\n",
        "lower_boundary_gearbox_temperature=dataset['gearbox_temperature(°C)'].mean() - 3* dataset['gearbox_temperature(°C)'].std()\n",
        "print(uppper_boundary_gearbox_temperature), print(lower_boundary_gearbox_temperature),print(dataset['gearbox_temperature(°C)'].median())"
      ],
      "execution_count": null,
      "outputs": [
        {
          "output_type": "stream",
          "text": [
            "172.01633239671153\n",
            "-89.96066703358483\n",
            "43.221734811954924\n"
          ],
          "name": "stdout"
        },
        {
          "output_type": "execute_result",
          "data": {
            "text/plain": [
              "(None, None, None)"
            ]
          },
          "metadata": {
            "tags": []
          },
          "execution_count": 0
        }
      ]
    },
    {
      "cell_type": "code",
      "metadata": {
        "colab": {
          "background_save": true
        },
        "id": "fY4K4a0_1KCn"
      },
      "source": [
        "# Lets compute the Interquantile range to calculate the boundaries assuming that distribution is not Gausian\n",
        "IQR_gearbox_temperature=dataset['gearbox_temperature(°C)'].quantile(0.75)-dataset['gearbox_temperature(°C)'].quantile(0.25)"
      ],
      "execution_count": null,
      "outputs": []
    },
    {
      "cell_type": "code",
      "metadata": {
        "colab": {
          "background_save": true
        },
        "id": "GfbVZ2Wl1dQ-",
        "outputId": "c8f649f0-d983-482f-9c0e-14c080fbe7c4"
      },
      "source": [
        "lower_bridge_gearbox_temperature=dataset['gearbox_temperature(°C)'].quantile(0.25)-(IQR_gearbox_temperature*1.5)\n",
        "upper_bridge_gearbox_temperature=dataset['gearbox_temperature(°C)'].quantile(0.75)+(IQR_gearbox_temperature*1.5)\n",
        "print(lower_bridge_gearbox_temperature), print(upper_bridge_gearbox_temperature)"
      ],
      "execution_count": null,
      "outputs": [
        {
          "output_type": "stream",
          "text": [
            "32.57616599615204\n",
            "53.8610390461524\n"
          ],
          "name": "stdout"
        },
        {
          "output_type": "execute_result",
          "data": {
            "text/plain": [
              "(None, None)"
            ]
          },
          "metadata": {
            "tags": []
          },
          "execution_count": 0
        }
      ]
    },
    {
      "cell_type": "code",
      "metadata": {
        "colab": {
          "background_save": true
        },
        "id": "HhSeasit1vvb"
      },
      "source": [
        "# Lets remove the outliers using Gausian distribution assumption\n",
        "dataset.loc[dataset['gearbox_temperature(°C)']<= -89,'gearbox_temperature(°C)']=-89     # we are replacing negative values with -89 \n",
        "dataset.loc[dataset['gearbox_temperature(°C)']>= 172,'gearbox_temperature(°C)']=172     # we are replacing values greater than 15 with 15"
      ],
      "execution_count": null,
      "outputs": []
    },
    {
      "cell_type": "code",
      "metadata": {
        "colab": {
          "background_save": true
        },
        "id": "N1TCKG2Z2dUw",
        "outputId": "1e101bcd-cafa-4a45-fab2-c43a0856ad1f"
      },
      "source": [
        "dataset[\"gearbox_temperature(°C)\"].describe()"
      ],
      "execution_count": null,
      "outputs": [
        {
          "output_type": "execute_result",
          "data": {
            "text/plain": [
              "count    28200.000000\n",
              "mean        41.023726\n",
              "std         40.743007\n",
              "min        -89.000000\n",
              "25%         40.557993\n",
              "50%         43.221735\n",
              "75%         45.879212\n",
              "max        172.000000\n",
              "Name: gearbox_temperature(°C), dtype: float64"
            ]
          },
          "metadata": {
            "tags": []
          },
          "execution_count": 0
        }
      ]
    },
    {
      "cell_type": "markdown",
      "metadata": {
        "id": "9n6l6Ul9_k-u"
      },
      "source": [
        "# Craeting functions for outliers"
      ]
    },
    {
      "cell_type": "code",
      "metadata": {
        "colab": {
          "background_save": true
        },
        "id": "UrvB9WUv3EBU"
      },
      "source": [
        "# Create function for describe and see histogram\n",
        "def des_see(feature):\n",
        "  print(dataset[feature].describe())\n",
        "  # Lets check its disribution histogram\n",
        "  plot1 = plt.figure(1)\n",
        "  figure1=dataset[feature].hist(bins=50)\n",
        "  figure1.set_title(feature)\n",
        "  figure1.set_xlabel(feature)\n",
        "  figure1.set_ylabel('Readings1')\n",
        "  # Lets check presence of outliers using box plot\n",
        "  plot1 = plt.figure(2)\n",
        "  figure2 = dataset.boxplot(column=feature)\n",
        "  figure2.set_xlabel(feature)\n",
        "  figure2.set_ylabel('Readings2')"
      ],
      "execution_count": null,
      "outputs": []
    },
    {
      "cell_type": "code",
      "metadata": {
        "colab": {
          "background_save": true
        },
        "id": "m3kvuPWu38Tq"
      },
      "source": [
        "# Create function for calculating boundaries with Gaussian and non Gaussian distribution\n",
        "def boundary_calculate(feature):\n",
        "  # Gausian Boundary\n",
        "  uppper_boundary_gaussian=dataset[feature].mean() + 3* dataset[feature].std()\n",
        "  lower_boundary_gaussian=dataset[feature].mean() - 3* dataset[feature].std()\n",
        "  print(\"Uppper_boundary_gaussian: {}\".format(uppper_boundary_gaussian)), print(\"Lower_boundary_gaussian: {}\".format(lower_boundary_gaussian)),print(\"Median: {}\".format(dataset[feature].median()))\n",
        "  # Non Gaussian Boundary\n",
        "  IQR=dataset[feature].quantile(0.75)-dataset[feature].quantile(0.25)\n",
        "  lower_bridge_non_gaussian=dataset[feature].quantile(0.25)-(IQR*1.5)\n",
        "  upper_bridge_non_gaussian=dataset[feature].quantile(0.75)+(IQR*1.5)\n",
        "  print(\"lower_bridge_non_gaussian: {}\".format(lower_bridge_non_gaussian)), print(\"upper_bridge_non_gaussian: {}\".format(upper_bridge_non_gaussian))"
      ],
      "execution_count": null,
      "outputs": []
    },
    {
      "cell_type": "code",
      "metadata": {
        "colab": {
          "background_save": true
        },
        "id": "isRAk5SG6V7b"
      },
      "source": [
        "# outlier removal function\n",
        "def remove_outlier(feature, upper_bound, lower_bound):\n",
        "  dataset.loc[dataset[feature]<= lower_bound,feature]=lower_bound     # we are replacing negative values with -89\n",
        "  dataset.loc[dataset[feature]>= upper_bound,feature]=upper_bound     # we are replacing values greater than 15 with 15"
      ],
      "execution_count": null,
      "outputs": []
    },
    {
      "cell_type": "markdown",
      "metadata": {
        "id": "HEdkbIWcLQnE"
      },
      "source": [
        "# 6. engine_temperature(°C)"
      ]
    },
    {
      "cell_type": "code",
      "metadata": {
        "colab": {
          "background_save": true
        },
        "id": "ACjw5Bal_xSW",
        "outputId": "581beddf-34e9-41e7-c4d8-b5fdfc9b937f"
      },
      "source": [
        "des_see(\"engine_temperature(°C)\")"
      ],
      "execution_count": null,
      "outputs": [
        {
          "output_type": "stream",
          "text": [
            "count    28200.000000\n",
            "mean        42.614626\n",
            "std          6.123271\n",
            "min          3.167151\n",
            "25%         41.911899\n",
            "50%         43.525297\n",
            "75%         45.173397\n",
            "max         50.000000\n",
            "Name: engine_temperature(°C), dtype: float64\n"
          ],
          "name": "stdout"
        },
        {
          "output_type": "display_data",
          "data": {
            "image/png": "[encoded data removed]",
            "text/plain": [
              "<Figure size 432x288 with 1 Axes>"
            ]
          },
          "metadata": {
            "tags": []
          }
        },
        {
          "output_type": "display_data",
          "data": {
            "image/png": "[encoded data removed]",
            "text/plain": [
              "<Figure size 432x288 with 1 Axes>"
            ]
          },
          "metadata": {
            "tags": []
          }
        }
      ]
    },
    {
      "cell_type": "code",
      "metadata": {
        "colab": {
          "background_save": true
        },
        "id": "MvxxLIO2LWza",
        "outputId": "22ddc9f2-99b6-4670-be3d-ba980e87ad54"
      },
      "source": [
        "boundary_calculate(\"engine_temperature(°C)\")"
      ],
      "execution_count": null,
      "outputs": [
        {
          "output_type": "stream",
          "text": [
            "Uppper_boundary_gaussian: 60.98444025274458\n",
            "Lower_boundary_gaussian: 24.244812241943865\n",
            "Median: 43.52529653458639\n",
            "lower_bridge_non_gaussian: 37.019651338099195\n",
            "upper_bridge_non_gaussian: 50.06564504167888\n"
          ],
          "name": "stdout"
        }
      ]
    },
    {
      "cell_type": "code",
      "metadata": {
        "colab": {
          "background_save": true
        },
        "id": "7GVgG-MkLieg"
      },
      "source": [
        "remove_outlier(\"engine_temperature(°C)\", 37, 50)"
      ],
      "execution_count": null,
      "outputs": []
    },
    {
      "cell_type": "markdown",
      "metadata": {
        "id": "Wb73B6PMNUUb"
      },
      "source": [
        "# 7. Motor_torque(N-m)"
      ]
    },
    {
      "cell_type": "code",
      "metadata": {
        "colab": {
          "background_save": true
        },
        "id": "fyaFA6hJM8ry",
        "outputId": "02258e13-99c3-4b67-d881-68ec92774f74"
      },
      "source": [
        "des_see(\"motor_torque(N-m)\")"
      ],
      "execution_count": null,
      "outputs": [
        {
          "output_type": "stream",
          "text": [
            "count    28200.000000\n",
            "mean      1711.093020\n",
            "std        826.906441\n",
            "min        500.000000\n",
            "25%        870.621152\n",
            "50%       2031.849540\n",
            "75%       2462.164052\n",
            "max       3000.000000\n",
            "Name: motor_torque(N-m), dtype: float64\n"
          ],
          "name": "stdout"
        },
        {
          "output_type": "display_data",
          "data": {
            "image/png": "[encoded data removed]",
            "text/plain": [
              "<Figure size 432x288 with 1 Axes>"
            ]
          },
          "metadata": {
            "tags": []
          }
        },
        {
          "output_type": "display_data",
          "data": {
            "image/png": "[encoded data removed]",
            "text/plain": [
              "<Figure size 432x288 with 1 Axes>"
            ]
          },
          "metadata": {
            "tags": []
          }
        }
      ]
    },
    {
      "cell_type": "code",
      "metadata": {
        "colab": {
          "background_save": true
        },
        "id": "_sD5MP7zNfnV",
        "outputId": "3d512337-8c2e-4b3e-d744-c63ecff1df00"
      },
      "source": [
        "boundary_calculate(\"motor_torque(N-m)\")"
      ],
      "execution_count": null,
      "outputs": [
        {
          "output_type": "stream",
          "text": [
            "Uppper_boundary_gaussian: 4191.812342420412\n",
            "Lower_boundary_gaussian: -769.6263027308134\n",
            "Median: 2031.8495401356888\n",
            "lower_bridge_non_gaussian: -1516.6931965601736\n",
            "upper_bridge_non_gaussian: 4849.478400721549\n"
          ],
          "name": "stdout"
        }
      ]
    },
    {
      "cell_type": "code",
      "metadata": {
        "colab": {
          "background_save": true
        },
        "id": "-PpTRiF4Njxv"
      },
      "source": [
        "# No Need to perform outlier Treatment"
      ],
      "execution_count": null,
      "outputs": []
    },
    {
      "cell_type": "markdown",
      "metadata": {
        "id": "W1344qOxihc4"
      },
      "source": [
        "# 8. Generator_temperature(°C)\t"
      ]
    },
    {
      "cell_type": "code",
      "metadata": {
        "colab": {
          "background_save": true
        },
        "id": "iuz1PjTDiZTE",
        "outputId": "696bca8f-1495-4f60-c47a-c51f95e85971"
      },
      "source": [
        "des_see(\"generator_temperature(°C)\")"
      ],
      "execution_count": null,
      "outputs": [
        {
          "output_type": "stream",
          "text": [
            "count    28200.000000\n",
            "mean        65.030283\n",
            "std         19.812632\n",
            "min         33.893779\n",
            "25%         41.200625\n",
            "50%         70.729533\n",
            "75%         78.939478\n",
            "max        100.000000\n",
            "Name: generator_temperature(°C), dtype: float64\n"
          ],
          "name": "stdout"
        },
        {
          "output_type": "display_data",
          "data": {
            "image/png": "[encoded data removed]",
            "text/plain": [
              "<Figure size 432x288 with 1 Axes>"
            ]
          },
          "metadata": {
            "tags": []
          }
        },
        {
          "output_type": "display_data",
          "data": {
            "image/png": "[encoded data removed]",
            "text/plain": [
              "<Figure size 432x288 with 1 Axes>"
            ]
          },
          "metadata": {
            "tags": []
          }
        }
      ]
    },
    {
      "cell_type": "code",
      "metadata": {
        "colab": {
          "background_save": true
        },
        "id": "gBZq_QTSiqTW",
        "outputId": "ceae1f0c-760a-4613-a34a-71822ed4e8d8"
      },
      "source": [
        "boundary_calculate(\"generator_temperature(°C)\")"
      ],
      "execution_count": null,
      "outputs": [
        {
          "output_type": "stream",
          "text": [
            "Uppper_boundary_gaussian: 124.46817806553251\n",
            "Lower_boundary_gaussian: 5.59238847149696\n",
            "Median: 70.72953276085299\n",
            "lower_bridge_non_gaussian: -15.407655400235228\n",
            "upper_bridge_non_gaussian: 135.54775870499424\n"
          ],
          "name": "stdout"
        }
      ]
    },
    {
      "cell_type": "code",
      "metadata": {
        "colab": {
          "background_save": true
        },
        "id": "oiSnYiqHi0iM"
      },
      "source": [
        "# No Need to perform outlier Treatment"
      ],
      "execution_count": null,
      "outputs": []
    },
    {
      "cell_type": "markdown",
      "metadata": {
        "id": "vkqBwEh6i8ji"
      },
      "source": [
        "# 9. Atmospheric_pressure(Pascal)"
      ]
    },
    {
      "cell_type": "code",
      "metadata": {
        "colab": {
          "background_save": true
        },
        "id": "t3DVHK--i44D",
        "outputId": "14b61f62-1ff4-472e-a473-20c13bfd10c5"
      },
      "source": [
        "des_see(\"atmospheric_pressure(Pascal)\")"
      ],
      "execution_count": null,
      "outputs": [
        {
          "output_type": "stream",
          "text": [
            "count    2.820000e+04\n",
            "mean     4.982589e+04\n",
            "std      1.785746e+05\n",
            "min     -1.188624e+06\n",
            "25%      1.689269e+04\n",
            "50%      1.819113e+04\n",
            "75%      1.164252e+05\n",
            "max      1.272552e+06\n",
            "Name: atmospheric_pressure(Pascal), dtype: float64\n"
          ],
          "name": "stdout"
        },
        {
          "output_type": "display_data",
          "data": {
            "image/png": "[encoded data removed]",
            "text/plain": [
              "<Figure size 432x288 with 1 Axes>"
            ]
          },
          "metadata": {
            "tags": []
          }
        },
        {
          "output_type": "display_data",
          "data": {
            "image/png": "[encoded data removed]",
            "text/plain": [
              "<Figure size 432x288 with 1 Axes>"
            ]
          },
          "metadata": {
            "tags": []
          }
        }
      ]
    },
    {
      "cell_type": "code",
      "metadata": {
        "colab": {
          "background_save": true
        },
        "id": "Z_3E_lkCjLQI",
        "outputId": "36f20078-76fb-4e1b-b06d-ccd97a4bb21d"
      },
      "source": [
        "boundary_calculate(\"atmospheric_pressure(Pascal)\")"
      ],
      "execution_count": null,
      "outputs": [
        {
          "output_type": "stream",
          "text": [
            "Uppper_boundary_gaussian: 585549.5936810591\n",
            "Lower_boundary_gaussian: -485897.8038388383\n",
            "Median: 18191.125867472405\n",
            "lower_bridge_non_gaussian: -132406.04217387325\n",
            "upper_bridge_non_gaussian: 265723.9091902612\n"
          ],
          "name": "stdout"
        }
      ]
    },
    {
      "cell_type": "code",
      "metadata": {
        "colab": {
          "background_save": true
        },
        "id": "rxRKqxRRjTOB"
      },
      "source": [
        "remove_outlier(\"atmospheric_pressure(Pascal)\", 265723.9091902612, -132406.04217387325)"
      ],
      "execution_count": null,
      "outputs": []
    },
    {
      "cell_type": "code",
      "metadata": {
        "colab": {
          "background_save": true
        },
        "id": "tkSaVygNjmKD",
        "outputId": "3603beb3-3483-43e6-fd33-75990d6150a5"
      },
      "source": [
        "des_see(\"atmospheric_pressure(Pascal)\")"
      ],
      "execution_count": null,
      "outputs": [
        {
          "output_type": "stream",
          "text": [
            "count     28200.000000\n",
            "mean      52229.606961\n",
            "std       99941.212189\n",
            "min     -132406.042174\n",
            "25%       16892.689588\n",
            "50%       18191.125867\n",
            "75%      116425.177429\n",
            "max      265723.909190\n",
            "Name: atmospheric_pressure(Pascal), dtype: float64\n"
          ],
          "name": "stdout"
        },
        {
          "output_type": "display_data",
          "data": {
            "image/png": "[encoded data removed]",
            "text/plain": [
              "<Figure size 432x288 with 1 Axes>"
            ]
          },
          "metadata": {
            "tags": []
          }
        },
        {
          "output_type": "display_data",
          "data": {
            "image/png": "[encoded data removed]",
            "text/plain": [
              "<Figure size 432x288 with 1 Axes>"
            ]
          },
          "metadata": {
            "tags": []
          }
        }
      ]
    },
    {
      "cell_type": "markdown",
      "metadata": {
        "id": "f3of2laQkO_S"
      },
      "source": [
        "# 10. Area_temperature(°C)"
      ]
    },
    {
      "cell_type": "code",
      "metadata": {
        "colab": {
          "background_save": true
        },
        "id": "On1O_Ml0jtc3",
        "outputId": "3205abdd-e1bc-4820-8834-b292ecb2ec80"
      },
      "source": [
        "des_see(\"area_temperature(°C)\")"
      ],
      "execution_count": null,
      "outputs": [
        {
          "output_type": "stream",
          "text": [
            "count    28200.000000\n",
            "mean        32.735091\n",
            "std          7.703391\n",
            "min        -30.000000\n",
            "25%         27.311644\n",
            "50%         32.605195\n",
            "75%         38.232387\n",
            "max         55.000000\n",
            "Name: area_temperature(°C), dtype: float64\n"
          ],
          "name": "stdout"
        },
        {
          "output_type": "display_data",
          "data": {
            "image/png": "[encoded data removed]",
            "text/plain": [
              "<Figure size 432x288 with 1 Axes>"
            ]
          },
          "metadata": {
            "tags": []
          }
        },
        {
          "output_type": "display_data",
          "data": {
            "image/png": "[encoded data removed]",
            "text/plain": [
              "<Figure size 432x288 with 1 Axes>"
            ]
          },
          "metadata": {
            "tags": []
          }
        }
      ]
    },
    {
      "cell_type": "code",
      "metadata": {
        "colab": {
          "background_save": true
        },
        "id": "bomu31pekUme",
        "outputId": "3e6f2445-167f-4962-db24-4f5647d8130a"
      },
      "source": [
        "boundary_calculate(\"area_temperature(°C)\")"
      ],
      "execution_count": null,
      "outputs": [
        {
          "output_type": "stream",
          "text": [
            "Uppper_boundary_gaussian: 55.845263881306124\n",
            "Lower_boundary_gaussian: 9.624918122380521\n",
            "Median: 32.605195010727044\n",
            "lower_bridge_non_gaussian: 10.930529429986198\n",
            "upper_bridge_non_gaussian: 54.61350110612318\n"
          ],
          "name": "stdout"
        }
      ]
    },
    {
      "cell_type": "code",
      "metadata": {
        "colab": {
          "background_save": true
        },
        "id": "akkXNc0-kb8a"
      },
      "source": [
        "remove_outlier(\"area_temperature(°C)\", 55.84, 9.62)"
      ],
      "execution_count": null,
      "outputs": []
    },
    {
      "cell_type": "code",
      "metadata": {
        "colab": {
          "background_save": true
        },
        "id": "QhmkYohBkpPo",
        "outputId": "c57cf78f-ce77-4a45-ea74-115932711cd7"
      },
      "source": [
        "des_see(\"area_temperature(°C)\")"
      ],
      "execution_count": null,
      "outputs": [
        {
          "output_type": "stream",
          "text": [
            "count    28200.000000\n",
            "mean        32.788575\n",
            "std          7.414860\n",
            "min          9.620000\n",
            "25%         27.311644\n",
            "50%         32.605195\n",
            "75%         38.232387\n",
            "max         55.000000\n",
            "Name: area_temperature(°C), dtype: float64\n"
          ],
          "name": "stdout"
        },
        {
          "output_type": "display_data",
          "data": {
            "image/png": "[encoded data removed]",
            "text/plain": [
              "<Figure size 432x288 with 1 Axes>"
            ]
          },
          "metadata": {
            "tags": []
          }
        },
        {
          "output_type": "display_data",
          "data": {
            "image/png": "[encoded data removed]",
            "text/plain": [
              "<Figure size 432x288 with 1 Axes>"
            ]
          },
          "metadata": {
            "tags": []
          }
        }
      ]
    },
    {
      "cell_type": "markdown",
      "metadata": {
        "id": "xbbV1DpC9ewv"
      },
      "source": [
        "# 11. Windmill_body_temperature(°C)"
      ]
    },
    {
      "cell_type": "code",
      "metadata": {
        "colab": {
          "background_save": true
        },
        "id": "1l6YUBx_ktIU",
        "outputId": "d7bf66db-4e31-4ea1-d3e3-078ee686517c"
      },
      "source": [
        "des_see(\"windmill_body_temperature(°C)\")"
      ],
      "execution_count": null,
      "outputs": [
        {
          "output_type": "stream",
          "text": [
            "count    28200.000000\n",
            "mean        22.642152\n",
            "std         52.384616\n",
            "min       -999.000000\n",
            "25%         40.851429\n",
            "50%         42.786832\n",
            "75%         44.325305\n",
            "max        323.000000\n",
            "Name: windmill_body_temperature(°C), dtype: float64\n"
          ],
          "name": "stdout"
        },
        {
          "output_type": "display_data",
          "data": {
            "image/png": "[encoded data removed]",
            "text/plain": [
              "<Figure size 432x288 with 1 Axes>"
            ]
          },
          "metadata": {
            "tags": []
          }
        },
        {
          "output_type": "display_data",
          "data": {
            "image/png": "[encoded data removed]",
            "text/plain": [
              "<Figure size 432x288 with 1 Axes>"
            ]
          },
          "metadata": {
            "tags": []
          }
        }
      ]
    },
    {
      "cell_type": "code",
      "metadata": {
        "colab": {
          "background_save": true
        },
        "id": "pKwZ5VWA9onJ",
        "outputId": "2471034b-17f6-40de-9885-28ece70ce194"
      },
      "source": [
        "boundary_calculate(\"windmill_body_temperature(°C)\")"
      ],
      "execution_count": null,
      "outputs": [
        {
          "output_type": "stream",
          "text": [
            "Uppper_boundary_gaussian: 179.79600134894878\n",
            "Lower_boundary_gaussian: -134.5116965691371\n",
            "Median: 42.786831821338346\n",
            "lower_bridge_non_gaussian: 35.64061403579237\n",
            "upper_bridge_non_gaussian: 49.536119277959074\n"
          ],
          "name": "stdout"
        }
      ]
    },
    {
      "cell_type": "code",
      "metadata": {
        "colab": {
          "background_save": true
        },
        "id": "AAv3IMt5923G"
      },
      "source": [
        "remove_outlier(\"windmill_body_temperature(°C)\", 49.53, 35.64)"
      ],
      "execution_count": null,
      "outputs": []
    },
    {
      "cell_type": "markdown",
      "metadata": {
        "id": "JNb4OUF4-R8A"
      },
      "source": [
        "# 12. Wind_direction(°)"
      ]
    },
    {
      "cell_type": "code",
      "metadata": {
        "colab": {
          "background_save": true
        },
        "id": "L8SDKj3l-KA6",
        "outputId": "43e96a40-9e56-4876-ae15-765508d42280"
      },
      "source": [
        "des_see(\"wind_direction(°)\")"
      ],
      "execution_count": null,
      "outputs": [
        {
          "output_type": "stream",
          "text": [
            "count    28200.000000\n",
            "mean       300.471910\n",
            "std        122.087135\n",
            "min          0.000000\n",
            "25%        246.793261\n",
            "50%        271.427656\n",
            "75%        332.325695\n",
            "max        569.966479\n",
            "Name: wind_direction(°), dtype: float64\n"
          ],
          "name": "stdout"
        },
        {
          "output_type": "display_data",
          "data": {
            "image/png": "[encoded data removed]",
            "text/plain": [
              "<Figure size 432x288 with 1 Axes>"
            ]
          },
          "metadata": {
            "tags": []
          }
        },
        {
          "output_type": "display_data",
          "data": {
            "image/png": "[encoded data removed]",
            "text/plain": [
              "<Figure size 432x288 with 1 Axes>"
            ]
          },
          "metadata": {
            "tags": []
          }
        }
      ]
    },
    {
      "cell_type": "code",
      "metadata": {
        "colab": {
          "background_save": true
        },
        "id": "0w7ifzH3-W-X",
        "outputId": "2c09ff1a-8c81-4d2e-f0b6-d12ef4c1c3c8"
      },
      "source": [
        "boundary_calculate(\"wind_direction(°)\")"
      ],
      "execution_count": null,
      "outputs": [
        {
          "output_type": "stream",
          "text": [
            "Uppper_boundary_gaussian: 666.7333136648213\n",
            "Lower_boundary_gaussian: -65.78949406717658\n",
            "Median: 271.4276555722353\n",
            "lower_bridge_non_gaussian: 118.4946099997141\n",
            "upper_bridge_non_gaussian: 460.6243462273946\n"
          ],
          "name": "stdout"
        }
      ]
    },
    {
      "cell_type": "code",
      "metadata": {
        "colab": {
          "background_save": true
        },
        "id": "i3e_ZWOh-dj9"
      },
      "source": [
        "remove_outlier(\"wind_direction(°)\", 460.62, 118.49)"
      ],
      "execution_count": null,
      "outputs": []
    },
    {
      "cell_type": "markdown",
      "metadata": {
        "id": "hll4Jitn-qxA"
      },
      "source": [
        "# 13. Resistance(ohm)"
      ]
    },
    {
      "cell_type": "code",
      "metadata": {
        "colab": {
          "background_save": true
        },
        "id": "L6rF4kwF-l_h",
        "outputId": "7b1ef7a4-8357-4df9-a46f-b0e3de81c01e"
      },
      "source": [
        "des_see(\"resistance(ohm)\")"
      ],
      "execution_count": null,
      "outputs": [
        {
          "output_type": "stream",
          "text": [
            "count    28200.000000\n",
            "mean      1575.563653\n",
            "std        483.318211\n",
            "min      -1005.222988\n",
            "25%       1268.141402\n",
            "50%       1678.238404\n",
            "75%       1829.044723\n",
            "max       4693.481933\n",
            "Name: resistance(ohm), dtype: float64\n"
          ],
          "name": "stdout"
        },
        {
          "output_type": "display_data",
          "data": {
            "image/png": "[encoded data removed]",
            "text/plain": [
              "<Figure size 432x288 with 1 Axes>"
            ]
          },
          "metadata": {
            "tags": []
          }
        },
        {
          "output_type": "display_data",
          "data": {
            "image/png": "[encoded data removed]",
            "text/plain": [
              "<Figure size 432x288 with 1 Axes>"
            ]
          },
          "metadata": {
            "tags": []
          }
        }
      ]
    },
    {
      "cell_type": "code",
      "metadata": {
        "colab": {
          "background_save": true
        },
        "id": "BFitdPvA-v24",
        "outputId": "f1cc3bd0-8735-466f-e7a6-09f721f6d40e"
      },
      "source": [
        "boundary_calculate(\"resistance(ohm)\")"
      ],
      "execution_count": null,
      "outputs": [
        {
          "output_type": "stream",
          "text": [
            "Uppper_boundary_gaussian: 3025.5182859522774\n",
            "Lower_boundary_gaussian: 125.60901918916875\n",
            "Median: 1678.2384041252815\n",
            "lower_bridge_non_gaussian: 426.7864211250211\n",
            "upper_bridge_non_gaussian: 2670.39970416561\n"
          ],
          "name": "stdout"
        }
      ]
    },
    {
      "cell_type": "code",
      "metadata": {
        "colab": {
          "background_save": true
        },
        "id": "mDbNkRDs-0Tg"
      },
      "source": [
        "remove_outlier(\"resistance(ohm)\", 3000, 0)  # We entered the manual upper and lower limits as less number of outliers are there"
      ],
      "execution_count": null,
      "outputs": []
    },
    {
      "cell_type": "markdown",
      "metadata": {
        "id": "uHGGWZM7DZgK"
      },
      "source": [
        "# 14. Rotor_torque(N-m)"
      ]
    },
    {
      "cell_type": "code",
      "metadata": {
        "colab": {
          "background_save": true
        },
        "id": "2LeOJXdr_tkN",
        "outputId": "7e4151d3-f6e5-4989-8b61-5f97799b3992"
      },
      "source": [
        "des_see(\"rotor_torque(N-m)\")"
      ],
      "execution_count": null,
      "outputs": [
        {
          "output_type": "stream",
          "text": [
            "count    28200.000000\n",
            "mean        25.994462\n",
            "std         32.109132\n",
            "min       -136.732217\n",
            "25%         13.829618\n",
            "50%         32.977192\n",
            "75%         41.337104\n",
            "max        236.883264\n",
            "Name: rotor_torque(N-m), dtype: float64\n"
          ],
          "name": "stdout"
        },
        {
          "output_type": "display_data",
          "data": {
            "image/png": "[encoded data removed]",
            "text/plain": [
              "<Figure size 432x288 with 1 Axes>"
            ]
          },
          "metadata": {
            "tags": []
          }
        },
        {
          "output_type": "display_data",
          "data": {
            "image/png": "[encoded data removed]",
            "text/plain": [
              "<Figure size 432x288 with 1 Axes>"
            ]
          },
          "metadata": {
            "tags": []
          }
        }
      ]
    },
    {
      "cell_type": "code",
      "metadata": {
        "colab": {
          "background_save": true
        },
        "id": "yq_t_2-sDd-B",
        "outputId": "5f5efc62-c8bf-4b27-afda-5dc88969354e"
      },
      "source": [
        "boundary_calculate(\"rotor_torque(N-m)\")"
      ],
      "execution_count": null,
      "outputs": [
        {
          "output_type": "stream",
          "text": [
            "Uppper_boundary_gaussian: 122.32185739680257\n",
            "Lower_boundary_gaussian: -70.33293352845475\n",
            "Median: 32.97719178011148\n",
            "lower_bridge_non_gaussian: -27.43161171875016\n",
            "upper_bridge_non_gaussian: 82.59833362128175\n"
          ],
          "name": "stdout"
        }
      ]
    },
    {
      "cell_type": "code",
      "metadata": {
        "colab": {
          "background_save": true
        },
        "id": "88ubsyAqDjg7"
      },
      "source": [
        "remove_outlier(\"rotor_torque(N-m)\", 82.59, -27.43)"
      ],
      "execution_count": null,
      "outputs": []
    },
    {
      "cell_type": "markdown",
      "metadata": {
        "id": "0rlhlNThDywQ"
      },
      "source": [
        "# 15. Blade_length(m)"
      ]
    },
    {
      "cell_type": "code",
      "metadata": {
        "colab": {
          "background_save": true
        },
        "id": "1ZBF4gKWDs70",
        "outputId": "b6832673-c8fc-4829-8983-43cd157a26de"
      },
      "source": [
        "des_see(\"blade_length(m)\")"
      ],
      "execution_count": null,
      "outputs": [
        {
          "output_type": "stream",
          "text": [
            "count    28200.000000\n",
            "mean         2.470631\n",
            "std         10.217120\n",
            "min        -99.000000\n",
            "25%          2.735787\n",
            "50%          3.453333\n",
            "75%          4.156647\n",
            "max         18.209800\n",
            "Name: blade_length(m), dtype: float64\n"
          ],
          "name": "stdout"
        },
        {
          "output_type": "display_data",
          "data": {
            "image/png": "[encoded data removed]",
            "text/plain": [
              "<Figure size 432x288 with 1 Axes>"
            ]
          },
          "metadata": {
            "tags": []
          }
        },
        {
          "output_type": "display_data",
          "data": {
            "image/png": "[encoded data removed]",
            "text/plain": [
              "<Figure size 432x288 with 1 Axes>"
            ]
          },
          "metadata": {
            "tags": []
          }
        }
      ]
    },
    {
      "cell_type": "code",
      "metadata": {
        "colab": {
          "background_save": true
        },
        "id": "gXQXKgUqD20J",
        "outputId": "85a310cc-5af5-4a00-a886-ed59a3fa5188"
      },
      "source": [
        "boundary_calculate(\"blade_length(m)\")"
      ],
      "execution_count": null,
      "outputs": [
        {
          "output_type": "stream",
          "text": [
            "Uppper_boundary_gaussian: 33.1219916744668\n",
            "Lower_boundary_gaussian: -28.180729515243815\n",
            "Median: 3.453333243841766\n",
            "lower_bridge_non_gaussian: 0.6044975602623652\n",
            "upper_bridge_non_gaussian: 6.287936184958405\n"
          ],
          "name": "stdout"
        }
      ]
    },
    {
      "cell_type": "code",
      "metadata": {
        "colab": {
          "background_save": true
        },
        "id": "F5F-ClkUD9pa"
      },
      "source": [
        "remove_outlier(\"blade_length(m)\", 6.28, 0)"
      ],
      "execution_count": null,
      "outputs": []
    },
    {
      "cell_type": "markdown",
      "metadata": {
        "id": "LmMo200REUHK"
      },
      "source": [
        "# 16. Blade_breadth(m)"
      ]
    },
    {
      "cell_type": "code",
      "metadata": {
        "colab": {
          "background_save": true
        },
        "id": "MtYDRwNQEFYc",
        "outputId": "973cfca6-a139-4aff-e369-b586b05e40dc"
      },
      "source": [
        "des_see(\"blade_breadth(m)\")"
      ],
      "execution_count": null,
      "outputs": [
        {
          "output_type": "stream",
          "text": [
            "count    28200.000000\n",
            "mean         0.397249\n",
            "std          0.061158\n",
            "min          0.200111\n",
            "25%          0.347445\n",
            "50%          0.398591\n",
            "75%          0.449354\n",
            "max          0.499975\n",
            "Name: blade_breadth(m), dtype: float64\n"
          ],
          "name": "stdout"
        },
        {
          "output_type": "display_data",
          "data": {
            "image/png": "[encoded data removed]",
            "text/plain": [
              "<Figure size 432x288 with 1 Axes>"
            ]
          },
          "metadata": {
            "tags": []
          }
        },
        {
          "output_type": "display_data",
          "data": {
            "image/png": "[encoded data removed]",
            "text/plain": [
              "<Figure size 432x288 with 1 Axes>"
            ]
          },
          "metadata": {
            "tags": []
          }
        }
      ]
    },
    {
      "cell_type": "code",
      "metadata": {
        "colab": {
          "background_save": true
        },
        "id": "40Tlv3UPEYJz"
      },
      "source": [
        "# No outlier treament is needed"
      ],
      "execution_count": null,
      "outputs": []
    },
    {
      "cell_type": "markdown",
      "metadata": {
        "id": "Ahr0nQ4cHHms"
      },
      "source": [
        "# 17. Windmill_height(m)"
      ]
    },
    {
      "cell_type": "code",
      "metadata": {
        "colab": {
          "background_save": true
        },
        "id": "rLsVw5ISHBKj",
        "outputId": "73589a44-bcd7-4155-b2a8-b37ca074b139"
      },
      "source": [
        "des_see(\"windmill_height(m)\")"
      ],
      "execution_count": null,
      "outputs": [
        {
          "output_type": "stream",
          "text": [
            "count    28200.000000\n",
            "mean        25.888413\n",
            "std          7.698407\n",
            "min        -30.295253\n",
            "25%         24.469380\n",
            "50%         25.957739\n",
            "75%         27.451080\n",
            "max         78.351335\n",
            "Name: windmill_height(m), dtype: float64\n"
          ],
          "name": "stdout"
        },
        {
          "output_type": "display_data",
          "data": {
            "image/png": "[encoded data removed]",
            "text/plain": [
              "<Figure size 432x288 with 1 Axes>"
            ]
          },
          "metadata": {
            "tags": []
          }
        },
        {
          "output_type": "display_data",
          "data": {
            "image/png": "[encoded data removed]",
            "text/plain": [
              "<Figure size 432x288 with 1 Axes>"
            ]
          },
          "metadata": {
            "tags": []
          }
        }
      ]
    },
    {
      "cell_type": "code",
      "metadata": {
        "colab": {
          "background_save": true
        },
        "id": "FkHOyw2oHL-4",
        "outputId": "a14c39b8-8d07-4de4-eb9e-835357b69cdc"
      },
      "source": [
        "boundary_calculate(\"windmill_height(m)\")"
      ],
      "execution_count": null,
      "outputs": [
        {
          "output_type": "stream",
          "text": [
            "Uppper_boundary_gaussian: 48.98363413224912\n",
            "Lower_boundary_gaussian: 2.7931922301140837\n",
            "Median: 25.957739319560773\n",
            "lower_bridge_non_gaussian: 19.996830051927322\n",
            "upper_bridge_non_gaussian: 31.923629691256384\n"
          ],
          "name": "stdout"
        }
      ]
    },
    {
      "cell_type": "code",
      "metadata": {
        "colab": {
          "background_save": true
        },
        "id": "rkh-Q258HSmB"
      },
      "source": [
        "remove_outlier(\"windmill_height(m)\", 48.98, 2.79)"
      ],
      "execution_count": null,
      "outputs": []
    },
    {
      "cell_type": "markdown",
      "metadata": {
        "id": "L6pToKa3IedS"
      },
      "source": [
        "# Scalling the features"
      ]
    },
    {
      "cell_type": "code",
      "metadata": {
        "colab": {
          "background_save": true
        },
        "id": "7KD_nyTSHa5j",
        "outputId": "96b41247-e73a-4ce2-b652-47542e8687af"
      },
      "source": [
        "dataset.head(2)"
      ],
      "execution_count": null,
      "outputs": [
        {
          "output_type": "execute_result",
          "data": {
            "text/html": [
              "<div>\n",
              "<style scoped>\n",
              "    .dataframe tbody tr th:only-of-type {\n",
              "        vertical-align: middle;\n",
              "    }\n",
              "\n",
              "    .dataframe tbody tr th {\n",
              "        vertical-align: top;\n",
              "    }\n",
              "\n",
              "    .dataframe thead th {\n",
              "        text-align: right;\n",
              "    }\n",
              "</style>\n",
              "<table border=\"1\" class=\"dataframe\">\n",
              "  <thead>\n",
              "    <tr style=\"text-align: right;\">\n",
              "      <th></th>\n",
              "      <th>tracking_id</th>\n",
              "      <th>datetime</th>\n",
              "      <th>wind_speed(m/s)</th>\n",
              "      <th>atmospheric_temperature(°C)</th>\n",
              "      <th>shaft_temperature(°C)</th>\n",
              "      <th>blades_angle(°)</th>\n",
              "      <th>gearbox_temperature(°C)</th>\n",
              "      <th>engine_temperature(°C)</th>\n",
              "      <th>motor_torque(N-m)</th>\n",
              "      <th>generator_temperature(°C)</th>\n",
              "      <th>atmospheric_pressure(Pascal)</th>\n",
              "      <th>area_temperature(°C)</th>\n",
              "      <th>windmill_body_temperature(°C)</th>\n",
              "      <th>wind_direction(°)</th>\n",
              "      <th>resistance(ohm)</th>\n",
              "      <th>rotor_torque(N-m)</th>\n",
              "      <th>turbine_status</th>\n",
              "      <th>cloud_level</th>\n",
              "      <th>blade_length(m)</th>\n",
              "      <th>blade_breadth(m)</th>\n",
              "      <th>windmill_height(m)</th>\n",
              "      <th>windmill_generated_power(kW/h)</th>\n",
              "    </tr>\n",
              "  </thead>\n",
              "  <tbody>\n",
              "    <tr>\n",
              "      <th>0</th>\n",
              "      <td>WM_33725</td>\n",
              "      <td>2019-08-04 14:33:20</td>\n",
              "      <td>94.820023</td>\n",
              "      <td>-10.000000</td>\n",
              "      <td>41.723019</td>\n",
              "      <td>-0.903423</td>\n",
              "      <td>82.410573</td>\n",
              "      <td>37.0</td>\n",
              "      <td>2563.124522</td>\n",
              "      <td>76.665560</td>\n",
              "      <td>103402.961872</td>\n",
              "      <td>26.897875</td>\n",
              "      <td>42.786832</td>\n",
              "      <td>239.836388</td>\n",
              "      <td>2730.310605</td>\n",
              "      <td>42.084666</td>\n",
              "      <td>1854</td>\n",
              "      <td>2</td>\n",
              "      <td>2.217542</td>\n",
              "      <td>0.314065</td>\n",
              "      <td>24.281689</td>\n",
              "      <td>6.766521</td>\n",
              "    </tr>\n",
              "    <tr>\n",
              "      <th>1</th>\n",
              "      <td>WM_698</td>\n",
              "      <td>2018-11-05 10:13:20</td>\n",
              "      <td>241.832734</td>\n",
              "      <td>27.764785</td>\n",
              "      <td>-41.000000</td>\n",
              "      <td>-11.000000</td>\n",
              "      <td>44.104919</td>\n",
              "      <td>37.0</td>\n",
              "      <td>2372.384119</td>\n",
              "      <td>78.129803</td>\n",
              "      <td>17030.904078</td>\n",
              "      <td>39.801469</td>\n",
              "      <td>42.786832</td>\n",
              "      <td>337.944723</td>\n",
              "      <td>1780.207200</td>\n",
              "      <td>82.590000</td>\n",
              "      <td>1855</td>\n",
              "      <td>2</td>\n",
              "      <td>4.210346</td>\n",
              "      <td>0.448494</td>\n",
              "      <td>27.262139</td>\n",
              "      <td>5.966275</td>\n",
              "    </tr>\n",
              "  </tbody>\n",
              "</table>\n",
              "</div>"
            ],
            "text/plain": [
              "  tracking_id  ... windmill_generated_power(kW/h)\n",
              "0    WM_33725  ...                       6.766521\n",
              "1      WM_698  ...                       5.966275\n",
              "\n",
              "[2 rows x 22 columns]"
            ]
          },
          "metadata": {
            "tags": []
          },
          "execution_count": 0
        }
      ]
    },
    {
      "cell_type": "code",
      "metadata": {
        "colab": {
          "background_save": true
        },
        "id": "ILtjfqaGImZA"
      },
      "source": [
        "X = dataset.iloc[:, 2:21]\n",
        "Y = dataset.iloc[:, 21]"
      ],
      "execution_count": null,
      "outputs": []
    },
    {
      "cell_type": "code",
      "metadata": {
        "colab": {
          "background_save": true
        },
        "id": "CW1HvyBdJeAg",
        "outputId": "b82e60d5-786a-41c3-d738-4e86468987a5"
      },
      "source": [
        "X.head(2)"
      ],
      "execution_count": null,
      "outputs": [
        {
          "output_type": "execute_result",
          "data": {
            "text/html": [
              "<div>\n",
              "<style scoped>\n",
              "    .dataframe tbody tr th:only-of-type {\n",
              "        vertical-align: middle;\n",
              "    }\n",
              "\n",
              "    .dataframe tbody tr th {\n",
              "        vertical-align: top;\n",
              "    }\n",
              "\n",
              "    .dataframe thead th {\n",
              "        text-align: right;\n",
              "    }\n",
              "</style>\n",
              "<table border=\"1\" class=\"dataframe\">\n",
              "  <thead>\n",
              "    <tr style=\"text-align: right;\">\n",
              "      <th></th>\n",
              "      <th>wind_speed(m/s)</th>\n",
              "      <th>atmospheric_temperature(°C)</th>\n",
              "      <th>shaft_temperature(°C)</th>\n",
              "      <th>blades_angle(°)</th>\n",
              "      <th>gearbox_temperature(°C)</th>\n",
              "      <th>engine_temperature(°C)</th>\n",
              "      <th>motor_torque(N-m)</th>\n",
              "      <th>generator_temperature(°C)</th>\n",
              "      <th>atmospheric_pressure(Pascal)</th>\n",
              "      <th>area_temperature(°C)</th>\n",
              "      <th>windmill_body_temperature(°C)</th>\n",
              "      <th>wind_direction(°)</th>\n",
              "      <th>resistance(ohm)</th>\n",
              "      <th>rotor_torque(N-m)</th>\n",
              "      <th>turbine_status</th>\n",
              "      <th>cloud_level</th>\n",
              "      <th>blade_length(m)</th>\n",
              "      <th>blade_breadth(m)</th>\n",
              "      <th>windmill_height(m)</th>\n",
              "    </tr>\n",
              "  </thead>\n",
              "  <tbody>\n",
              "    <tr>\n",
              "      <th>0</th>\n",
              "      <td>94.820023</td>\n",
              "      <td>-10.000000</td>\n",
              "      <td>41.723019</td>\n",
              "      <td>-0.903423</td>\n",
              "      <td>82.410573</td>\n",
              "      <td>37.0</td>\n",
              "      <td>2563.124522</td>\n",
              "      <td>76.665560</td>\n",
              "      <td>103402.961872</td>\n",
              "      <td>26.897875</td>\n",
              "      <td>42.786832</td>\n",
              "      <td>239.836388</td>\n",
              "      <td>2730.310605</td>\n",
              "      <td>42.084666</td>\n",
              "      <td>1854</td>\n",
              "      <td>2</td>\n",
              "      <td>2.217542</td>\n",
              "      <td>0.314065</td>\n",
              "      <td>24.281689</td>\n",
              "    </tr>\n",
              "    <tr>\n",
              "      <th>1</th>\n",
              "      <td>241.832734</td>\n",
              "      <td>27.764785</td>\n",
              "      <td>-41.000000</td>\n",
              "      <td>-11.000000</td>\n",
              "      <td>44.104919</td>\n",
              "      <td>37.0</td>\n",
              "      <td>2372.384119</td>\n",
              "      <td>78.129803</td>\n",
              "      <td>17030.904078</td>\n",
              "      <td>39.801469</td>\n",
              "      <td>42.786832</td>\n",
              "      <td>337.944723</td>\n",
              "      <td>1780.207200</td>\n",
              "      <td>82.590000</td>\n",
              "      <td>1855</td>\n",
              "      <td>2</td>\n",
              "      <td>4.210346</td>\n",
              "      <td>0.448494</td>\n",
              "      <td>27.262139</td>\n",
              "    </tr>\n",
              "  </tbody>\n",
              "</table>\n",
              "</div>"
            ],
            "text/plain": [
              "   wind_speed(m/s)  ...  windmill_height(m)\n",
              "0        94.820023  ...           24.281689\n",
              "1       241.832734  ...           27.262139\n",
              "\n",
              "[2 rows x 19 columns]"
            ]
          },
          "metadata": {
            "tags": []
          },
          "execution_count": 0
        }
      ]
    },
    {
      "cell_type": "code",
      "metadata": {
        "colab": {
          "background_save": true
        },
        "id": "ngBjgMztJf78"
      },
      "source": [
        "# Apply scaling using Standard Scaler\n",
        "from sklearn.preprocessing import StandardScaler\n",
        "scaler = StandardScaler()"
      ],
      "execution_count": null,
      "outputs": []
    },
    {
      "cell_type": "code",
      "metadata": {
        "colab": {
          "background_save": true
        },
        "id": "mlPjnmsxJ6QR"
      },
      "source": [
        "X = scaler.fit_transform(X)"
      ],
      "execution_count": null,
      "outputs": []
    },
    {
      "cell_type": "markdown",
      "metadata": {
        "id": "l613vAMuKUcb"
      },
      "source": [
        "# Split into training and testing dataset"
      ]
    },
    {
      "cell_type": "code",
      "metadata": {
        "colab": {
          "background_save": true
        },
        "id": "E_ipJx4aKGIC"
      },
      "source": [
        "from sklearn.model_selection import train_test_split"
      ],
      "execution_count": null,
      "outputs": []
    },
    {
      "cell_type": "code",
      "metadata": {
        "colab": {
          "background_save": true
        },
        "id": "--DQvOqpKmuy"
      },
      "source": [
        "x_train, x_test, y_train, y_test = train_test_split(X, Y, test_size=0.3, random_state = 42)"
      ],
      "execution_count": null,
      "outputs": []
    },
    {
      "cell_type": "markdown",
      "metadata": {
        "id": "hbsxlnUtK3_p"
      },
      "source": [
        "# Start implementing the Machine learning algorithm"
      ]
    },
    {
      "cell_type": "code",
      "metadata": {
        "colab": {
          "background_save": true
        },
        "id": "M49_KdyZKwkW"
      },
      "source": [
        "# Implementing the Random Forest regressor\n",
        "# Implementing the Gradient Boosting regressor\n",
        "from sklearn.ensemble import GradientBoostingRegressor\n",
        "model_GradBoost = GradientBoostingRegressor(alpha=0.9, ccp_alpha=0.0, criterion='friedman_mse',\n",
        "                          init=None, learning_rate=0.05, loss='ls',\n",
        "                          max_depth=10, max_features='auto',\n",
        "                          max_leaf_nodes=None, min_impurity_decrease=0.0,\n",
        "                          min_impurity_split=None, min_samples_leaf=6,\n",
        "                          min_samples_split=4, min_weight_fraction_leaf=0.0,\n",
        "                          n_estimators=900, n_iter_no_change=None,\n",
        "                          presort='deprecated', random_state=None,\n",
        "                          subsample=1.0, tol=0.0001, validation_fraction=0.1,\n",
        "                          verbose=1, warm_start=False)"
      ],
      "execution_count": null,
      "outputs": []
    },
    {
      "cell_type": "code",
      "metadata": {
        "colab": {
          "background_save": true
        },
        "id": "pig_WuiFLSj5"
      },
      "source": [
        "model_GradBoost.fit(x_train, y_train)"
      ],
      "execution_count": null,
      "outputs": []
    },
    {
      "cell_type": "code",
      "metadata": {
        "colab": {
          "background_save": true
        },
        "id": "WHzpfGS-Lomh"
      },
      "source": [
        "model_GradBoost.score(x_train, y_train)"
      ],
      "execution_count": null,
      "outputs": []
    },
    {
      "cell_type": "code",
      "metadata": {
        "colab": {
          "background_save": true
        },
        "id": "t7mBKiSeMZaN"
      },
      "source": [
        "model_GradBoost.score(x_test, y_test)"
      ],
      "execution_count": null,
      "outputs": []
    },
    {
      "cell_type": "code",
      "metadata": {
        "colab": {
          "background_save": true
        },
        "id": "xGyUGcowMgH_"
      },
      "source": [
        "import pickle\n",
        "# save the model to disk\n",
        "DATA_PATH = \"/content/drive/MyDrive/Deep Learning/model_GradBoost.dat\"\n",
        "filename = 'model_GradBoost.dat'\n",
        "pickle.dump(DATA_PATH, open(filename, 'wb'))"
      ],
      "execution_count": null,
      "outputs": []
    },
    {
      "cell_type": "code",
      "metadata": {
        "id": "6IFu4t1dvQwU"
      },
      "source": [
        ""
      ],
      "execution_count": null,
      "outputs": []
    }
  ]
}